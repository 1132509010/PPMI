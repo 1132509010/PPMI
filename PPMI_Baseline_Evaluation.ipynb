{
  "nbformat": 4,
  "nbformat_minor": 0,
  "metadata": {
    "colab": {
      "name": "PPMI_Baseline_Evaluation.ipynb",
      "provenance": [],
      "collapsed_sections": [
        "Hc3_9QpSs339"
      ],
      "toc_visible": true
    },
    "kernelspec": {
      "name": "python36564bitbaseconda0c46a7982bbc4f80bd0644b64cf7593c",
      "display_name": "Python 3.6.5 64-bit ('base': conda)"
    }
  },
  "cells": [
    {
      "cell_type": "markdown",
      "metadata": {
        "id": "MtHYrhWlClsR"
      },
      "source": [
        "#**Baseline Evaluation for Early Diagnosis of Parkinson’s Disease Progression**\n",
        "> **Author:** Dharesh Vadalia\n",
        "\n",
        "\n",
        "---\n"
      ]
    },
    {
      "cell_type": "markdown",
      "metadata": {
        "id": "TyxgWz9jrMHR"
      },
      "source": [
        "##**Introduction**\n",
        "Parkinson's Disease is a neuro degerative disorder  caused due to loss of dopaminergic neuron in the substantia nigra located at midbrain, disturbing the patients control over motor movements and non-motor senses. During the early stages of Parkinson's Disease, patients may experience bradykinesia, resting tremors, anxiety, disturbance in sleeps, depression, vocal impairment or fatigue.These symptoms worsen gradually, causing permanent damage to patient’s quality of life. Patient at an adult age of 60 and above tends to develop visible disabilities, such as postural instability, freeze of gait and muscle rigidity.\n",
        "\n",
        "\\\n",
        "**Objective** \\\n",
        "1.  Study various clinical assessment techniques designed by makers of PD biomarkers and identify impact factor of various contributing clinical cohorts for building machine learning model.\n",
        "2.  Predict risk of PD progression based on evaluation of baseline charachteristic captured for patients. \n",
        "\n",
        "\\\n",
        "**Research Question**\\\n",
        "How well can combined analysis of clinical biomarkers help identify risk of Parkinson’s Disease progression at prodromal stage?\n",
        "\n",
        "\\\n",
        "**Source of Data**\\\n",
        "Parkinson's Progression Makers Initiative (PPMI) (http://www.ppmi-info.org), Michael J. Fox Foundation for Parkinson’s Research.\\\n",
        "Data is fetched from PPMI data repository via dedicated pypmi API package (https://pypmi.readthedocs.io/en/latest/index.html)."
      ]
    },
    {
      "cell_type": "markdown",
      "metadata": {
        "id": "6UnDkKTrr22L"
      },
      "source": [
        "##**Implementation**"
      ]
    },
    {
      "cell_type": "markdown",
      "metadata": {
        "id": "Hc3_9QpSs339"
      },
      "source": [
        "###Importing Necessary Libraries"
      ]
    },
    {
      "cell_type": "code",
      "metadata": {
        "id": "D9m6mhBsY67b",
        "outputId": "41e2d706-6ca4-41b5-be6b-5d375c3d6429",
        "colab": {
          "base_uri": "https://localhost:8080/",
          "height": 332
        }
      },
      "source": [
        "!pip install pypmi"
      ],
      "execution_count": null,
      "outputs": [
        {
          "output_type": "stream",
          "text": [
            "Collecting pypmi\n",
            "\u001b[?25l  Downloading https://files.pythonhosted.org/packages/e6/c6/4dd75b7411571f67a61c177c19eb3c2136a938a827d1e4ab1875484eaca8/pypmi-0.3-py3-none-any.whl (42kB)\n",
            "\u001b[K     |████████████████████████████████| 51kB 1.7MB/s \n",
            "\u001b[?25hRequirement already satisfied: numpy>=0.15 in /usr/local/lib/python3.6/dist-packages (from pypmi) (1.18.5)\n",
            "Requirement already satisfied: pandas>=0.21 in /usr/local/lib/python3.6/dist-packages (from pypmi) (1.0.5)\n",
            "Requirement already satisfied: tqdm in /usr/local/lib/python3.6/dist-packages (from pypmi) (4.41.1)\n",
            "Requirement already satisfied: scipy in /usr/local/lib/python3.6/dist-packages (from pypmi) (1.4.1)\n",
            "Requirement already satisfied: requests in /usr/local/lib/python3.6/dist-packages (from pypmi) (2.23.0)\n",
            "Requirement already satisfied: python-dateutil>=2.6.1 in /usr/local/lib/python3.6/dist-packages (from pandas>=0.21->pypmi) (2.8.1)\n",
            "Requirement already satisfied: pytz>=2017.2 in /usr/local/lib/python3.6/dist-packages (from pandas>=0.21->pypmi) (2018.9)\n",
            "Requirement already satisfied: certifi>=2017.4.17 in /usr/local/lib/python3.6/dist-packages (from requests->pypmi) (2020.6.20)\n",
            "Requirement already satisfied: chardet<4,>=3.0.2 in /usr/local/lib/python3.6/dist-packages (from requests->pypmi) (3.0.4)\n",
            "Requirement already satisfied: urllib3!=1.25.0,!=1.25.1,<1.26,>=1.21.1 in /usr/local/lib/python3.6/dist-packages (from requests->pypmi) (1.24.3)\n",
            "Requirement already satisfied: idna<3,>=2.5 in /usr/local/lib/python3.6/dist-packages (from requests->pypmi) (2.10)\n",
            "Requirement already satisfied: six>=1.5 in /usr/local/lib/python3.6/dist-packages (from python-dateutil>=2.6.1->pandas>=0.21->pypmi) (1.15.0)\n",
            "Installing collected packages: pypmi\n",
            "Successfully installed pypmi-0.3\n"
          ],
          "name": "stdout"
        }
      ]
    },
    {
      "cell_type": "code",
      "metadata": {
        "id": "5Fxum13kc47K",
        "outputId": "12649d25-fd12-4e19-acf4-91bc57693baa",
        "colab": {
          "base_uri": "https://localhost:8080/",
          "height": 72
        }
      },
      "source": [
        "import pandas as pd\n",
        "import numpy as np\n",
        "import pypmi\n",
        "import matplotlib.pyplot as plt\n",
        "import seaborn as sns\n",
        "from sklearn.decomposition import PCA as sklearnPCA\n",
        "from sklearn import decomposition\n",
        "from sklearn import mixture\n",
        "import itertools\n",
        "from sklearn import metrics\n",
        "%matplotlib inline\n",
        "sns.set()\n",
        "import random\n",
        "random.seed(123)"
      ],
      "execution_count": null,
      "outputs": [
        {
          "output_type": "stream",
          "text": [
            "/usr/local/lib/python3.6/dist-packages/statsmodels/tools/_testing.py:19: FutureWarning: pandas.util.testing is deprecated. Use the functions in the public API at pandas.testing instead.\n",
            "  import pandas.util.testing as tm\n"
          ],
          "name": "stderr"
        }
      ]
    },
    {
      "cell_type": "markdown",
      "metadata": {
        "id": "z4fyeYQGtSE-"
      },
      "source": [
        "###Data Loading and Pre-Processing\n",
        "\n",
        "Downloading study data from PPMI repository via pypmi ***fetch_studydata()*** API.\\\n",
        "\\\n",
        "**Note: In case of poor netwrok connection API connection may timeout while downloading the dataset. In such case re-run the line of code. Download file size is approx 20 MB"
      ]
    },
    {
      "cell_type": "code",
      "metadata": {
        "id": "8mb_PEJDZz8J",
        "outputId": "214b3aa7-9ffe-4ef7-9d17-c7268ba57a54",
        "colab": {
          "base_uri": "https://localhost:8080/",
          "height": 1000
        }
      },
      "source": [
        "pypmi.fetch_studydata('all', user='{your ppmi user id}', password='{your password}')"
      ],
      "execution_count": null,
      "outputs": [
        {
          "output_type": "stream",
          "text": [
            "Fetching authentication key for data download...\n",
            "Requesting 113 datasets for download...\n"
          ],
          "name": "stdout"
        },
        {
          "output_type": "stream",
          "text": [
            "Fetching data file(s): 20.3MB [00:37, 535kB/s]\n"
          ],
          "name": "stderr"
        },
        {
          "output_type": "execute_result",
          "data": {
            "text/plain": [
              "['/content/AV-133_Image_Metadata.csv',\n",
              " '/content/AV-133_Imaging.csv',\n",
              " '/content/AV-133_SBR_Results.csv',\n",
              " '/content/AV-133_Subject_Eligibility.csv',\n",
              " '/content/Adverse_Event_Log.csv',\n",
              " '/content/Benton_Judgment_of_Line_Orientation.csv',\n",
              " '/content/Blood_Chemistry___Hematology.csv',\n",
              " '/content/Center-Subject_List.csv',\n",
              " '/content/Cognitive_Categorization.csv',\n",
              " '/content/Clinical_Diagnosis_and_Management.csv',\n",
              " '/content/Clinical_Labs.csv',\n",
              " '/content/Code_List.csv',\n",
              " '/content/Cognitive_Assessments.csv',\n",
              " '/content/Conclusion_of_Study_Participation.csv',\n",
              " '/content/Concomitant_Medications.csv',\n",
              " '/content/Randomization_table.csv',\n",
              " '/content/Contact_Information_FOUND.csv',\n",
              " '/content/Contact_Information_Brain_Bank.csv',\n",
              " '/content/Current_Biospecimen_Analysis_Results.csv',\n",
              " '/content/Current_Medical_Conditions_Log.csv',\n",
              " '/content/DNA_Sample_Collection.csv',\n",
              " '/content/DTI_Regions_of_Interest.csv',\n",
              " '/content/DaTSCAN_SPECT_Visual_Interpretation_Assessment.csv',\n",
              " '/content/DaTscan_Imaging.csv',\n",
              " '/content/DATScan_Analysis.csv',\n",
              " '/content/Data_Dictionary.csv',\n",
              " '/content/Deprecated_Biospecimen_Analysis_Results.csv',\n",
              " '/content/Derived_Variable_Definitions_and_Score_Calculations.csv',\n",
              " '/content/Diagnostic_Features.csv',\n",
              " '/content/Epworth_Sleepiness_Scale.csv',\n",
              " '/content/FBB_Analysis_Data.csv',\n",
              " '/content/FBB_Metadata.csv',\n",
              " '/content/FOUND_RFQ_Alcohol.csv',\n",
              " '/content/FOUND_RFQ_Anti-Inflammatory_Meds.csv',\n",
              " '/content/FOUND_RFQ_Caffeine.csv',\n",
              " '/content/FOUND_RFQ_Calcium_Channel_Blockers.csv',\n",
              " '/content/FOUND_RFQ_Female_Reproductive_Health.csv',\n",
              " '/content/FOUND_RFQ_Head_Injury.csv',\n",
              " '/content/FOUND_RFQ_Height___Weight.csv',\n",
              " '/content/FOUND_RFQ_Occupation.csv',\n",
              " '/content/FOUND_RFQ_Pesticides_at_Work.csv',\n",
              " '/content/FOUND_RFQ_Pesticides_Non-Work.csv',\n",
              " '/content/FOUND_RFQ_Physical_Activity.csv',\n",
              " '/content/FOUND_RFQ_Residential_History.csv',\n",
              " '/content/FOUND_Self-Reported_Dx.csv',\n",
              " '/content/FOUND_RFQ_Smoking_History.csv',\n",
              " '/content/FOUND_RFQ_Toxicant_History.csv',\n",
              " '/content/FOUND_Enrollment_Status.csv',\n",
              " '/content/Family_History__PD_.csv',\n",
              " '/content/Features_of_REM_Behavior_Disorder.csv',\n",
              " '/content/Florbetaben_Eligibility.csv',\n",
              " '/content/Gait_Data___Arm_swing.csv',\n",
              " '/content/General_Medical_History.csv',\n",
              " '/content/General_Neurological_Exam.csv',\n",
              " '/content/General_Physical_Exam.csv',\n",
              " '/content/Genetic_and_Registry_Diagnostic_Questionnaire.csv',\n",
              " '/content/Genetic_Testing_Results.csv',\n",
              " '/content/Geriatric_Depression_Scale__Short_.csv',\n",
              " '/content/Hopkins_Verbal_Learning_Test.csv',\n",
              " '/content/IUSM_CATALOG.csv',\n",
              " '/content/IUSM_BIOSPECIMEN_CELL_CATALOG.csv',\n",
              " '/content/Inclusion_Exclusion.csv',\n",
              " '/content/Initiation_of_PD_Medication-_incidents.csv',\n",
              " '/content/Laboratory_Procedures.csv',\n",
              " '/content/Laboratory_Procedures_with_Elapsed_Times.csv',\n",
              " '/content/Letter_-_Number_Sequencing__PD_.csv',\n",
              " '/content/Lumbar_Puncture_Sample_Collection.csv',\n",
              " '/content/MDS_UPDRS_Part_I.csv',\n",
              " '/content/MDS_UPDRS_Part_I__Patient_Questionnaire.csv',\n",
              " '/content/MDS_UPDRS_Part_II__Patient_Questionnaire.csv',\n",
              " '/content/MDS_UPDRS_Part_III.csv',\n",
              " '/content/MDS_UPDRS_Part_IV.csv',\n",
              " '/content/MRI_Imaging_Data_Transfer_Information_Source_Document.csv',\n",
              " '/content/Magnetic_Resonance_Imaging.csv',\n",
              " '/content/Modified_Schwab_+_England_ADL.csv',\n",
              " '/content/Montreal_Cognitive_Assessment__MoCA_.csv',\n",
              " '/content/Neurological_Exam_-_Cranial_Nerves.csv',\n",
              " '/content/Olfactory_UPSIT.csv',\n",
              " '/content/PD_Features.csv',\n",
              " '/content/Page_Descriptions.csv',\n",
              " '/content/Patient_Status.csv',\n",
              " '/content/PASE_-_Household_Activity.csv',\n",
              " '/content/PASE_-_Leisure_Time_Activity.csv',\n",
              " '/content/Pilot_Biospecimen_Analysis_Results.csv',\n",
              " '/content/Pregnancy_Form.csv',\n",
              " '/content/Primary_Diagnosis.csv',\n",
              " '/content/Prodromal_Diagnostic_Questionnaire.csv',\n",
              " '/content/QUIP_Current_Short.csv',\n",
              " '/content/RBD_PSG_Eligibility.csv',\n",
              " '/content/REM_Sleep_Disorder_Questionnaire.csv',\n",
              " '/content/Research_Advance_Directive.csv',\n",
              " '/content/SCOPA-AUT.csv',\n",
              " '/content/SPECT_Scan_Information_Source_Document.csv',\n",
              " '/content/Screening___Demographics.csv',\n",
              " '/content/Semantic_Fluency.csv',\n",
              " '/content/Signature_Form.csv',\n",
              " '/content/Skin_Biopsy.csv',\n",
              " '/content/Skin_Biopsy_Eligibility.csv',\n",
              " '/content/Socio-Economics.csv',\n",
              " '/content/State-Trait_Anxiety_Inventory.csv',\n",
              " '/content/Surgery_for_Parkinson_Disease.csv',\n",
              " '/content/Symbol_Digit_Modalities.csv',\n",
              " '/content/ST_CATALOG.csv',\n",
              " '/content/TAP-PD_OPDM_Assessment.csv',\n",
              " '/content/TAP-PD_OPDM_Use_Questionnaire.csv',\n",
              " '/content/TAP-PD_Conclusion.csv',\n",
              " '/content/TAP-PD_Kinetics_Device_Testing.csv',\n",
              " '/content/TAP-PD_Subject_Eligibility.csv',\n",
              " '/content/University_of_Pennsylvania_Smell_ID_Test.csv',\n",
              " '/content/Use_of_PD_Medication.csv',\n",
              " '/content/Vital_Signs.csv',\n",
              " '/content/Whole_Blood_Sample_Collection.csv',\n",
              " '/content/iPSC_Blood_Sample.csv']"
            ]
          },
          "metadata": {
            "tags": []
          },
          "execution_count": 4
        }
      ]
    },
    {
      "cell_type": "markdown",
      "metadata": {
        "id": "sHz0bYKQyHLK"
      },
      "source": [
        "A **Dictionary** is created with important covariates which are to be extracted from downloaded **.csv** files. Each **.csv** file represents different pre-clinical assessment test conducted to access patients condition against biomarkers of Parkinson's Disease ."
      ]
    },
    {
      "cell_type": "code",
      "metadata": {
        "id": "aVrnkiVZDTPB"
      },
      "source": [
        "'''\n",
        "\n",
        "PATNO: Unique ID assigned to each patient\n",
        "\n",
        "EVENT_ID: Patients Visit ID for recurring assessment carried out every month\n",
        "{BL(Baseline), V01(visit 1), V02, V03, V04, V05, V06, V07, V08, V09, V10, V11, V12}\n",
        "\n",
        "(PATNO + EVENT_ID) is unique to each record in all motor and non-motor assessment tests.\n",
        "\n",
        "'''\n",
        "covariates = {}\n",
        "\n",
        "########## SUBJECT CHARACHTERISTIC AND MEDICAL HISTORY ##########\n",
        "\n",
        "#Patients enrolment status\n",
        "covariates[\"pat_status\"] = [\"PATNO\", \"RECRUITMENT_CAT\", \"IMAGING_CAT\", \"ENROLL_DATE\", \"ENROLL_CAT\"]\n",
        "#Demographic infomation of patients \n",
        "covariates[\"pat_demographics\"] = [\"PATNO\", \"BIRTHDT\", \"GENDER\", \"APPRDX\", \"CURRENT_APPRDX\", \"HISPLAT\", \"RAINDALS\", \"RAASIAN\", \"RABLACK\", \"RAHAWOPI\", \"RAWHITE\", \"RANOS\"]\n",
        "#Family History Table Covariates\n",
        "covariates[\"pat_family_history\"] = [\"PATNO\", \"BIOMOMPD\", \"BIODADPD\", \"FULSIBPD\", \"HAFSIBPD\", \"MAGPARPD\", \"PAGPARPD\", \"MATAUPD\", \"PATAUPD\", \"KIDSPD\"]\n",
        "\n",
        "########## MOTOR AND NON-MOTOR ASSESSMENTS ##########\n",
        "\n",
        "#UPDRS - Unified Parkinson’s Disease Rating Scale (Part 1 - Part 4)\n",
        "covariates[\"updrs1\"] = [\"PATNO\", \"EVENT_ID\", \"INFODT\", \"NP1COG\", \"NP1HALL\", \"NP1DPRS\", \"NP1ANXS\", \"NP1APAT\", \"NP1DDS\"]\n",
        "covariates[\"updrs1pq\"] = [\"PATNO\", \"EVENT_ID\", \"NP1SLPN\", \"NP1SLPD\", \"NP1PAIN\", \"NP1URIN\", \"NP1CNST\", \"NP1LTHD\", \"NP1FATG\"]\n",
        "covariates[\"updrs2pq\"] = [\"PATNO\", \"EVENT_ID\", \"NP2SPCH\", \"NP2SALV\", \"NP2SWAL\", \"NP2EAT\", \"NP2DRES\", \"NP2HYGN\", \"NP2HWRT\", \"NP2HOBB\", \"NP2TURN\", \"NP2TRMR\", \"NP2RISE\", \"NP2WALK\", \"NP2FREZ\"]\n",
        "covariates[\"updrs3\"] = [\"PATNO\", \"EVENT_ID\", \"PAG_NAME\", \"EXAMTM\", \"NP3SPCH\", \"NP3FACXP\", \"NP3RIGN\", \"NP3RIGRU\", \"NP3RIGLU\", \"PN3RIGRL\", \"NP3RIGLL\", \"NP3FTAPR\", \"NP3FTAPL\", \"NP3HMOVR\", \"NP3HMOVL\", \"NP3PRSPR\", \"NP3PRSPL\", \"NP3TTAPR\", \"NP3TTAPL\", \"NP3LGAGR\", \"NP3LGAGL\", \"NP3RISNG\", \"NP3GAIT\", \"NP3FRZGT\", \"NP3PSTBL\", \"NP3POSTR\", \"NP3BRADY\", \"NP3PTRMR\", \"NP3PTRML\", \"NP3KTRMR\", \"NP3KTRML\", \"NP3RTARU\", \"NP3RTALU\", \"NP3RTARL\", \"NP3RTALL\", \"NP3RTALJ\", \"NP3RTCON\", \"DYSKPRES\", \"DYSKIRAT\", \"NHY\", \"ANNUAL_TIME_BTW_DOSE_NUPDRS\", \"ON_OFF_DOSE\", \"PD_MED_USE\"]\n",
        "# MOCA - Montreal Cognitive Assessment\n",
        "covariates[\"moca\"] = [\"PATNO\", \"EVENT_ID\", \"MCAALTTM\", \"MCACUBE\", \"MCACLCKC\", \"MCACLCKN\", \"MCACLCKH\", \"MCALION\", \"MCARHINO\", \"MCACAMEL\", \"MCAFDS\", \"MCABDS\", \"MCAVIGIL\", \"MCASER7\", \"MCASNTNC\", \"MCAVFNUM\", \"MCAVF\", \"MCAABSTR\", \"MCAREC1\", \"MCAREC2\", \"MCAREC3\", \"MCAREC4\", \"MCAREC5\", \"MCADATE\", \"MCAMONTH\", \"MCAYR\", \"MCADAY\", \"MCAPLACE\", \"MCACITY\", \"MCATOT\"]\n",
        "# STAI - State-Trait Anxiety Inventory Test\n",
        "covariates[\"stai\"] = [ \"PATNO\", \"EVENT_ID\", \"STAIAD1\", \"STAIAD2\", \"STAIAD3\", \"STAIAD4\", \"STAIAD5\", \"STAIAD6\", \"STAIAD7\", \"STAIAD8\", \"STAIAD9\", \"STAIAD10\", \"STAIAD11\", \"STAIAD12\", \"STAIAD13\", \"STAIAD14\", \"STAIAD15\", \"STAIAD16\", \"STAIAD17\", \"STAIAD18\", \"STAIAD19\", \"STAIAD20\", \"STAIAD21\", \"STAIAD22\", \"STAIAD23\", \"STAIAD24\", \"STAIAD25\", \"STAIAD26\", \"STAIAD27\", \"STAIAD28\", \"STAIAD29\", \"STAIAD30\", \"STAIAD31\", \"STAIAD32\", \"STAIAD33\", \"STAIAD34\", \"STAIAD35\", \"STAIAD36\", \"STAIAD37\", \"STAIAD38\", \"STAIAD39\", \"STAIAD40\" ]\n",
        "# GDS - Geriatric Depression Scale\n",
        "covariates[\"gds\"] = [\"PATNO\", \"EVENT_ID\", \"GDSSATIS\", \"GDSDROPD\", \"GDSEMPTY\", \"GDSBORED\", \"GDSGSPIR\", \"GDSAFRAD\", \"GDSHAPPY\", \"GDSHLPLS\", \"GDSHOME\", \"GDSMEMRY\", \"GDSALIVE\", \"GDSWRTLS\", \"GDSENRGY\", \"GDSHOPLS\", \"GDSBETER\"]\n",
        "# QUIP- Questionnaire for Impulsive-compulsive Disorder in Parkinson’s Disease \n",
        "covariates[\"quip\"] = [ \"PATNO\", \"EVENT_ID\", \"TMGAMBLE\", \"CNTRLGMB\", \"TMSEX\", \"CNTRLSEX\", \"TMBUY\", \"CNTRLBUY\", \"TMEAT\", \"CNTRLEAT\", \"TMTORACT\", \"TMTMTACT\", \"TMTRWD\" ]\n",
        "# SCOPA-AUT - Scale for Outcomes in Parkinson’s Disease – Autonomic Dysfunction Test \n",
        "covariates[\"scopa_aut\"] = [ \"PATNO\", \"EVENT_ID\", \"SCAU1\", \"SCAU2\", \"SCAU3\", \"SCAU4\", \"SCAU5\", \"SCAU6\", \"SCAU7\", \"SCAU8\", \"SCAU9\", \"SCAU10\", \"SCAU11\", \"SCAU12\", \"SCAU13\", \"SCAU14\", \"SCAU15\", \"SCAU16\", \"SCAU17\", \"SCAU18\", \"SCAU19\", \"SCAU20\", \"SCAU21\", \"SCAU22\", \"SCAU23\", \"SCAU23A\", \"SCAU23AT\", \"SCAU24\", \"SCAU25\", \"SCAU26A\", \"SCAU26AT\", \"SCAU26B\", \"SCAU26BT\", \"SCAU26C\", \"SCAU26CT\", \"SCAU26D\", \"SCAU26DT\" ]\n",
        "# SFT - Semantic Fluency Test\n",
        "covariates[\"sft\"] = [ \"PATNO\", \"EVENT_ID\", \"VLTANIM\", \"VLTVEG\", \"VLTFRUIT\" ]\n",
        "# REM-RBD - Rapid Eye Movement Sleep Behavior Disorder Test\n",
        "covariates[\"rem_rbd\"] = [ \"PATNO\", \"EVENT_ID\", \"DRMVIVID\", \"DRMAGRAC\", \"DRMNOCTB\", \"SLPLMBMV\", \"SLPINJUR\", \"DRMVERBL\", \"DRMFIGHT\", \"DRMUMV\", \"DRMOBJFL\", \"MVAWAKEN\", \"DRMREMEM\", \"SLPDSTRB\", \"STROKE\", \"HETRA\", \"RLS\", \"NARCLPSY\", \"DEPRS\", \"EPILEPSY\", \"BRNINFM\" ]\n",
        "#EPWORTH - Epworth Sleepness Scale\n",
        "covariates[\"epworth\"] = [\"PATNO\", \"EVENT_ID\", \"ESS1\", \"ESS2\", \"ESS3\", \"ESS4\", \"ESS5\", \"ESS6\", \"ESS7\", \"ESS8\"]\n",
        "# HVLT- Hopkins Verbal Learning Test\n",
        "covariates[\"hvlt\"] = [\"PATNO\", \"EVENT_ID\", \"HVLTRT1\", \"HVLTRT2\", \"HVLTRT3\", \"HVLTRDLY\", \"HVLTREC\", \"HVLTFPRL\", \"HVLTFPUN\"]\n",
        "# LNS - Letter Number Sequencing Test\n",
        "covariates[\"lns\"] = [\"PATNO\", \"EVENT_ID\",\"LNS_TOTRAW\"]\n",
        "# Neurological exam: Cranial Nerves Test\n",
        "covariates[\"neuro_cranial\"] = [\"PATNO\", \"EVENT_ID\",\"CN1RSP\", \"CN2RSP\", \"CN346RSP\", \"CN5RSP\", \"CN7RSP\", \"CN8RSP\", \"CN910RSP\", \"CN11RSP\", \"CN12RSP\"]\n",
        "# SDM - Symbol Digit Modalities Test\n",
        "covariates[\"sdm\"] = [ \"PATNO\", \"EVENT_ID\", \"SDMTOTAL\"] \n",
        "# Neuropsychological Test - (Line Orientation)\n",
        "covariates[\"benton\"] = [\"PATNO\", \"EVENT_ID\", \"JLO_TOTRAW\"]\n"
      ],
      "execution_count": null,
      "outputs": []
    },
    {
      "cell_type": "markdown",
      "metadata": {
        "id": "eCz4h9Fn2S5q"
      },
      "source": [
        "Extracting required data from **.csv** files into dataframes"
      ]
    },
    {
      "cell_type": "code",
      "metadata": {
        "id": "4OMyUCdKkMkD"
      },
      "source": [
        "path=''\n",
        "\n",
        "########## SUBJECT CHARACHTERISTIC AND MEDICAL HISTORY ##########\n",
        "pat_status = pd.read_csv(path+\"Patient_Status.csv\", index_col=[\"PATNO\"], usecols=covariates[\"pat_status\"])\n",
        "pat_demographics = pd.read_csv(path+\"Screening___Demographics.csv\", index_col=[\"PATNO\"], usecols=covariates[\"pat_demographics\"])\n",
        "pat_family_history = pd.read_csv(path+\"Family_History__PD_.csv\", index_col=[\"PATNO\"], usecols=covariates[\"pat_family_history\"])\n",
        "\n",
        "########## MOTOR AND NON-MOTOR ASSESSMENTS ##########\n",
        "updrs1 = pd.read_csv(path+\"MDS_UPDRS_Part_I.csv\", index_col=[\"PATNO\", \"EVENT_ID\"], parse_dates=[\"INFODT\"], usecols=covariates[\"updrs1\"])\n",
        "updrs1pq = pd.read_csv(path+\"MDS_UPDRS_Part_I__Patient_Questionnaire.csv\", index_col=[\"PATNO\", \"EVENT_ID\"], usecols=covariates[\"updrs1pq\"])\n",
        "updrs2pq = pd.read_csv(path+\"MDS_UPDRS_Part_II__Patient_Questionnaire.csv\", index_col=[\"PATNO\", \"EVENT_ID\"], usecols=covariates[\"updrs2pq\"])\n",
        "updrs3_temp = pd.read_csv(path+\"MDS_UPDRS_Part_III.csv\", index_col=[\"PATNO\", \"EVENT_ID\"], usecols=covariates[\"updrs3\"])\n",
        "updrs3 = updrs3_temp[updrs3_temp.PAG_NAME == 'NUPDRS3'] # pre med dose \n",
        "updrs3a = updrs3_temp[updrs3_temp.PAG_NAME == 'NUPDRS3A'] # post med dose  \n",
        "moca = pd.read_csv(path+\"Montreal_Cognitive_Assessment__MoCA_.csv\", index_col=[\"PATNO\", \"EVENT_ID\"], usecols=covariates[\"moca\"])\n",
        "stai = pd.read_csv(path+\"State-Trait_Anxiety_Inventory.csv\", index_col=[\"PATNO\", \"EVENT_ID\"], usecols=covariates[\"stai\"])\n",
        "gds = pd.read_csv(path+\"Geriatric_Depression_Scale__Short_.csv\", index_col=[\"PATNO\", \"EVENT_ID\"], usecols=covariates[\"gds\"])\n",
        "quip = pd.read_csv(path+\"QUIP_Current_Short.csv\", index_col=[\"PATNO\", \"EVENT_ID\"], usecols=covariates[\"quip\"])\n",
        "scopa_aut = pd.read_csv(path+\"SCOPA-AUT.csv\", index_col=[\"PATNO\", \"EVENT_ID\"], usecols=covariates[\"scopa_aut\"])\n",
        "sft = pd.read_csv(path+\"Semantic_Fluency.csv\", index_col=[\"PATNO\", \"EVENT_ID\"], usecols=covariates[\"sft\"])\n",
        "rem_rbd = pd.read_csv(path+\"REM_Sleep_Disorder_Questionnaire.csv\", index_col=[\"PATNO\", \"EVENT_ID\"], usecols=covariates[\"rem_rbd\"])\n",
        "epworth = pd.read_csv(path+\"Epworth_Sleepiness_Scale.csv\", index_col=[\"PATNO\", \"EVENT_ID\"], usecols=covariates[\"epworth\"])\n",
        "hvlt = pd.read_csv(path+\"Hopkins_Verbal_Learning_Test.csv\", index_col=[\"PATNO\", \"EVENT_ID\"], usecols=covariates[\"hvlt\"])\n",
        "lns = pd.read_csv(path+\"Letter_-_Number_Sequencing__PD_.csv\", index_col=[\"PATNO\", \"EVENT_ID\"], usecols=covariates[\"lns\"])\n",
        "neuro_cranial = pd.read_csv(path+\"Neurological_Exam_-_Cranial_Nerves.csv\", index_col=[\"PATNO\", \"EVENT_ID\"], usecols=covariates[\"neuro_cranial\"])\n",
        "sdm = pd.read_csv(path+\"Symbol_Digit_Modalities.csv\", index_col=[\"PATNO\", \"EVENT_ID\"], usecols=covariates[\"sdm\"])\n",
        "benton = pd.read_csv(path+\"Benton_Judgment_of_Line_Orientation.csv\", index_col=[\"PATNO\", \"EVENT_ID\"], usecols=covariates[\"benton\"])\n"
      ],
      "execution_count": null,
      "outputs": []
    },
    {
      "cell_type": "markdown",
      "metadata": {
        "id": "ulkZDNJCtZ53"
      },
      "source": [
        "###Exploratory Data Analysis\n",
        "\n",
        "Detailed analysis of fetched data is conducted to obtain better understanding on characteristic and quality of fetched data."
      ]
    },
    {
      "cell_type": "code",
      "metadata": {
        "id": "c_Wj7TaRfguV",
        "outputId": "868ed0f2-455d-452c-cbfc-1cbe1f22da79",
        "colab": {
          "base_uri": "https://localhost:8080/",
          "height": 638
        }
      },
      "source": [
        "list_of_datasets = ['updrs1', 'updrs1pq', 'updrs2pq', 'updrs3', 'moca', 'stai', 'gds', 'quip', 'scopa_aut', \n",
        "            'sft', 'rem_rbd', 'epworth', 'hvlt', 'lns', 'neuro_cranial', 'sdm', 'benton']\n",
        "\n",
        "visit_ids = ['BL', 'V01', 'V02', 'V03', 'V04', 'V05', 'V06', 'V07', 'V08', 'V09', 'V10', 'V11', 'V12']\n",
        "last_visit = visit_ids[-1] #V12\n",
        "\n",
        "\n",
        "init_dataset = eval(list_of_datasets[0]).reset_index()\n",
        "plot = init_dataset.reset_index().groupby('EVENT_ID').size().reset_index().rename(columns={0:list_of_datasets[0]})\n",
        "\n",
        "for dataset in list_of_datasets[1:]:    \n",
        "    dataset_idx = eval(dataset).reset_index()\n",
        "    temp_plot = dataset_idx.reset_index().groupby('EVENT_ID').size().reset_index().rename(columns={0:dataset})\n",
        "    \n",
        "    plot = plot.merge(temp_plot, on='EVENT_ID', how='outer')\n",
        "    \n",
        "plot = plot.set_index('EVENT_ID').loc[visit_ids].plot(kind='bar', title=\"Number of patients per visit for various type of assessments\",\n",
        "                                                      figsize=(20, 10))\n",
        "plot.set_ylabel(\"Number of patients\");\n",
        "plot.set_xlabel(\"Assessment Visit IDs\");"
      ],
      "execution_count": null,
      "outputs": [
        {
          "output_type": "display_data",
          "data": {
            "image/png": "[encoded data removed]",
            "text/plain": [
              "<Figure size 1440x720 with 1 Axes>"
            ]
          },
          "metadata": {
            "tags": []
          }
        }
      ]
    },
    {
      "cell_type": "markdown",
      "metadata": {
        "id": "Xg-GGhhS4D0v"
      },
      "source": [
        "From above visualisation, it can be inferred that as we move towards last visit of assessment, steep decline in number of participant can be seen. Also for various tests are not mandatory to be conducted during each visit. Therefore, based presented data instead of selecting each visit, specific visits with most test data is selected. That is BL, V02, V04, V06, V08, V10, V12"
      ]
    },
    {
      "cell_type": "markdown",
      "metadata": {
        "id": "Twadyd3HBfZB"
      },
      "source": [
        "Records of data for all the essential covariates identified in selected list of clinical assessment is merged over unique index key defined on patient id and visit id for the filtered list of patients."
      ]
    },
    {
      "cell_type": "code",
      "metadata": {
        "id": "5xew3hOohHFK",
        "outputId": "ba949282-dca8-4202-ad9e-114c33e60889",
        "colab": {
          "base_uri": "https://localhost:8080/",
          "height": 34
        }
      },
      "source": [
        "#Selecting visits of interest\n",
        "visit_ids_of_interest = ['BL', 'V02', 'V04', 'V06', 'V08', 'V10', 'V12']\n",
        "last_visit = visit_ids_of_interest[-1] #V12\n",
        "\n",
        "# selecting patient data who participated from BL to last_visit\n",
        "dataset_temp = eval(list_of_datasets[0]).reset_index()\n",
        "list_of_ptnno = dataset_temp[ dataset_temp.EVENT_ID == last_visit ]['PATNO']\n",
        "\n",
        "for dataset in list_of_datasets:\n",
        "    dataset_temp = eval(dataset).reset_index()\n",
        "    patno_temp = dataset_temp[ dataset_temp.EVENT_ID == last_visit ]['PATNO']\n",
        "    list_of_ptnno = list_of_ptnno[ list_of_ptnno.isin(patno_temp)]\n",
        "\n",
        "print(f'Total {list_of_ptnno.size} number of patients who participated till last visit for all assessments')"
      ],
      "execution_count": null,
      "outputs": [
        {
          "output_type": "stream",
          "text": [
            "Total 476 number of patients who participated till last visit for all assessments\n"
          ],
          "name": "stdout"
        }
      ]
    },
    {
      "cell_type": "code",
      "metadata": {
        "id": "sWXdnjsBa-qo",
        "outputId": "13be54f7-8e21-414c-d24d-9b0093e7de96",
        "colab": {
          "base_uri": "https://localhost:8080/",
          "height": 173
        }
      },
      "source": [
        "# constructing the data_visits dictionary with all the information\n",
        "merged_data = {}\n",
        "status = pat_status[pat_status.index.isin(list_of_ptnno)].ENROLL_CAT\n",
        "demographics = pat_demographics[pat_demographics.index.isin(list_of_ptnno)]\n",
        "merged_data[\"info\"] = pd.concat([status, demographics], axis=1)\n",
        "\n",
        "for dataset in list_of_datasets:    \n",
        "    dataset_temp = eval(dataset).reset_index()\n",
        "    merged_data[dataset] = dataset_temp[ dataset_temp['PATNO'].isin(list_of_ptnno) & dataset_temp['EVENT_ID'].isin(visit_ids_of_interest) ]\n",
        "\n",
        "merged_data[\"info\"].ENROLL_CAT.reset_index().groupby(\"ENROLL_CAT\").size()"
      ],
      "execution_count": null,
      "outputs": [
        {
          "output_type": "execute_result",
          "data": {
            "text/plain": [
              "ENROLL_CAT\n",
              "GENPD         8\n",
              "GENUN         6\n",
              "HC          154\n",
              "PD          294\n",
              "PRODROMA     10\n",
              "REGPD         1\n",
              "SWEDD         3\n",
              "dtype: int64"
            ]
          },
          "metadata": {
            "tags": []
          },
          "execution_count": 9
        }
      ]
    },
    {
      "cell_type": "code",
      "metadata": {
        "id": "fpxm1eHz6Csi",
        "outputId": "0e4a6f89-1ca6-47ba-d813-379f38cae481",
        "colab": {
          "base_uri": "https://localhost:8080/",
          "height": 354
        }
      },
      "source": [
        "plot_1 = merged_data[\"info\"].ENROLL_CAT.reset_index().groupby(\"ENROLL_CAT\").size().plot(kind='bar',\n",
        "                                                                                        title=\"Categories of selected participants\", \n",
        "                                                                                        color = ['r','r','g','g','r','r','r'])\n",
        "plot_1.set_ylabel(\"Number of Patients\"); \n",
        "plot_1.set_xlabel(\"Patient Category\");\n"
      ],
      "execution_count": null,
      "outputs": [
        {
          "output_type": "display_data",
          "data": {
            "image/png": "[encoded data removed]",
            "text/plain": [
              "<Figure size 432x288 with 1 Axes>"
            ]
          },
          "metadata": {
            "tags": []
          }
        }
      ]
    },
    {
      "cell_type": "markdown",
      "metadata": {
        "id": "gvw9Eh1M_-_d"
      },
      "source": [
        "\n",
        "\n",
        "Above bar graph represents the category of participating patients. It can be infered that most of the participants fall under Healthy Control(HC) and Parkinsons Disease (PD) category. Thus we will consider records from this two categories for training model. "
      ]
    },
    {
      "cell_type": "code",
      "metadata": {
        "id": "79voWet4HrX5",
        "outputId": "1a23850b-ae4e-46e7-e5e7-8665451c6998",
        "colab": {
          "base_uri": "https://localhost:8080/",
          "height": 301
        }
      },
      "source": [
        "merged_data[\"info\"].GENDER.replace([0, 1, 2], ['F bearing child', 'F Normal', 'M']).reset_index().groupby(\"GENDER\").size().plot(kind='bar', title=\"Gender of selected participants\", rot=0, color = 'c');"
      ],
      "execution_count": null,
      "outputs": [
        {
          "output_type": "display_data",
          "data": {
            "image/png": "[encoded data removed]",
            "text/plain": [
              "<Figure size 432x288 with 1 Axes>"
            ]
          },
          "metadata": {
            "tags": []
          }
        }
      ]
    },
    {
      "cell_type": "markdown",
      "metadata": {
        "id": "nY40oece_FhS"
      },
      "source": [
        "Above bar graph represent distribution of participants on basis of gender. Also, there is a different category marked fro female participant who are pregnent. It can be depicted that their are higher number of male participants in this data."
      ]
    },
    {
      "cell_type": "code",
      "metadata": {
        "id": "a0ATr5j2IWM_",
        "outputId": "fd3b3938-8a13-4137-e9a2-b65a45a95b2c",
        "colab": {
          "base_uri": "https://localhost:8080/",
          "height": 301
        }
      },
      "source": [
        "hc_birthdt = merged_data[\"info\"].BIRTHDT.reset_index()[merged_data[\"info\"].reset_index()['ENROLL_CAT'] == 'HC'].rename(columns={'BIRTHDT':'HC'})\n",
        "pd_birthdt = merged_data[\"info\"].BIRTHDT.reset_index()[merged_data[\"info\"].reset_index()['ENROLL_CAT'] == 'PD'].rename(columns={'BIRTHDT':'PD'})\n",
        "concat_birthdt = pd.concat([pd_birthdt.PD, hc_birthdt.HC], axis=1)\n",
        "plot_3 = concat_birthdt.plot(kind='hist', title=\"Histogram of age\", alpha=0.7, bins=15, ax=plt.gca(), color = ['r','y'])\n",
        "plot_3.set_xlabel(\"Birthdate\");"
      ],
      "execution_count": null,
      "outputs": [
        {
          "output_type": "display_data",
          "data": {
            "image/png": "[encoded data removed]",
            "text/plain": [
              "<Figure size 432x288 with 1 Axes>"
            ]
          },
          "metadata": {
            "tags": []
          }
        }
      ]
    },
    {
      "cell_type": "markdown",
      "metadata": {
        "id": "-JWZ6lF5oIew"
      },
      "source": [
        "Above Histogram represents the frequency distrubution of participants on basis of their age groups for two dominating categories HC and PD. It can be infered that most of the participating patients suffereing from PD fall under age group above 40 years."
      ]
    },
    {
      "cell_type": "markdown",
      "metadata": {
        "id": "63YFyEEAt7oA"
      },
      "source": [
        "###Feature Engineering"
      ]
    },
    {
      "cell_type": "markdown",
      "metadata": {
        "id": "qd6B5jVyajeu"
      },
      "source": [
        "**STEP 1: Time Series Vectorisation & Imputation**\n",
        "\\\n",
        "\\\n",
        "Below steps are perfomed to Vectorize time series data into one series, that is patients data from each visit and handle missing values using ***interpolate()*** function. Vectorization technique eliminates looping hops, generating better performing model and reduces the computation load by 20 – 30%. In this technique data points of each covariate from every visit of patient is pivoted against its unique patient ID, creating a single row of record for each patient ID."
      ]
    },
    {
      "cell_type": "code",
      "metadata": {
        "id": "R1_PuriqSAkE"
      },
      "source": [
        "d1 = merged_data['updrs1'].drop('INFODT',axis=1) #drop unwated column\n",
        "d1 = d1.set_index(['PATNO','EVENT_ID']).sort_index(level='PATNO') #set index and sort data \n",
        "d1 = d1.unstack().reset_index().set_index('PATNO') #pivot sorted data and reset index\n",
        "d1 = d1.interpolate(method='linear', axis=1) #handeling missing values using linear function\n",
        "\n",
        "d2 = merged_data['updrs1pq'].set_index(['PATNO','EVENT_ID']).sort_index(level='PATNO')\n",
        "d2 = d2.unstack().reset_index().set_index('PATNO')\n",
        "d2 = d2.interpolate(method='linear', axis=1)\n",
        "\n",
        "d3 = merged_data['updrs2pq'].set_index(['PATNO','EVENT_ID']).sort_index(level='PATNO')\n",
        "d3 = d3.unstack().reset_index().set_index('PATNO')\n",
        "d3 = d3.interpolate(method='linear', axis=1)\n",
        "\n",
        "d4 = merged_data['updrs3'].drop(['PAG_NAME','EXAMTM','PD_MED_USE','ON_OFF_DOSE','ANNUAL_TIME_BTW_DOSE_NUPDRS'],axis=1)\n",
        "d4 = d4.set_index(['PATNO','EVENT_ID']).sort_index(level='PATNO')\n",
        "d4 = d4.unstack().reset_index().set_index('PATNO')\n",
        "d4 = d4.interpolate(method='linear', axis=1)\n",
        "\n",
        "d5 = merged_data['moca'].set_index(['PATNO','EVENT_ID']).sort_index(level='PATNO')\n",
        "d5 = d5.unstack().reset_index().set_index('PATNO')\n",
        "d5 = d5.interpolate(method='linear', axis=1)\n",
        "\n",
        "d6 = merged_data['stai'].set_index(['PATNO','EVENT_ID']).sort_index(level='PATNO')\n",
        "d6 = d6.unstack().reset_index().set_index('PATNO')\n",
        "d6 = d6.interpolate(method='linear', axis=1, limit=10, limit_direction='both')\n",
        "\n",
        "d7 = merged_data['gds'].set_index(['PATNO','EVENT_ID']).sort_index(level='PATNO')\n",
        "d7 = d7.unstack().reset_index().set_index('PATNO')\n",
        "d7 = d7.interpolate(method='linear', axis=1, limit=10, limit_direction='both')\n",
        "\n",
        "d8 = merged_data['quip'].set_index(['PATNO','EVENT_ID']).sort_index(level='PATNO')\n",
        "d8 = d8.unstack().reset_index().set_index('PATNO')\n",
        "d8 = d8.interpolate(method='linear', axis=1, limit=10, limit_direction='both')\n",
        "\n",
        "d9 = merged_data['scopa_aut'].drop(['SCAU23AT','SCAU26AT','SCAU26BT','SCAU26CT','SCAU26DT'],axis=1)\n",
        "d9 = d9.set_index(['PATNO','EVENT_ID']).sort_index(level='PATNO')\n",
        "d9 = d9.unstack().reset_index().set_index('PATNO')\n",
        "d9 = d9.interpolate(method='linear', axis=1, limit=10, limit_direction='both')\n",
        "\n",
        "d10 = merged_data['sft'].set_index(['PATNO','EVENT_ID']).sort_index(level='PATNO')\n",
        "d10 = d10.unstack().reset_index().set_index('PATNO')\n",
        "d10 = d10.interpolate(method='linear', axis=1, limit=10, limit_direction='both')\n",
        "\n",
        "d11 = merged_data['rem_rbd'].set_index(['PATNO','EVENT_ID']).sort_index(level='PATNO')\n",
        "d11 = d11.unstack().reset_index().set_index('PATNO')\n",
        "d11 = d11.interpolate(method='linear', axis=1, limit=10, limit_direction='both')\n",
        "\n",
        "d12 = merged_data['epworth'].set_index(['PATNO','EVENT_ID']).sort_index(level='PATNO')\n",
        "d12 = d12.unstack().reset_index().set_index('PATNO')\n",
        "d12 = d12.interpolate(method='linear', axis=1)\n",
        "\n",
        "d13 = merged_data['hvlt'].set_index(['PATNO','EVENT_ID']).sort_index(level='PATNO')\n",
        "d13 = d13.unstack().reset_index().set_index('PATNO')\n",
        "d13 = d13.interpolate(method='linear', axis=1, limit=10, limit_direction='both')\n",
        "\n",
        "d14 = merged_data['lns'].set_index(['PATNO','EVENT_ID']).sort_index(level='PATNO')\n",
        "d14 = d14.unstack().reset_index().set_index('PATNO')\n",
        "d14 = d14.interpolate(method='linear', axis=1, limit=10, limit_direction='both')\n",
        "\n",
        "d15 = merged_data['neuro_cranial'].set_index(['PATNO','EVENT_ID']).sort_index(level='PATNO')\n",
        "d15 = d15.unstack().reset_index().set_index('PATNO')\n",
        "d15 = d15.interpolate(method='linear', axis=1)\n",
        "\n",
        "d16 = merged_data['sdm'].set_index(['PATNO','EVENT_ID']).sort_index(level='PATNO')\n",
        "d16 = d16.unstack().reset_index().set_index('PATNO')\n",
        "d16 = d16.interpolate(method='linear', axis=1, limit=10, limit_direction='both')\n",
        "\n",
        "d17 = merged_data['benton'].drop_duplicates(['PATNO','EVENT_ID'], keep='first').set_index(['PATNO','EVENT_ID']).sort_index(level='PATNO')\n",
        "d17 = d17.unstack().reset_index().set_index('PATNO')\n",
        "d17 = d17.interpolate(method='linear', axis=1)\n",
        "\n",
        "arr_of_vect_datasets = [d1,d2,d3,d4,d5,d6,d7,d8,d9,d10,d11,d12,d13,d14,d15,d16,d17]"
      ],
      "execution_count": null,
      "outputs": []
    },
    {
      "cell_type": "markdown",
      "metadata": {
        "id": "3NVhDzGFjmYj"
      },
      "source": [
        "**STEP 2: Normalization\\Standardization**\n",
        "\n",
        "\\\n",
        "Normalization\\Standardization techniques are adopted to uniformly scale data points. As different covariates in dataset are measured on different scales and thus do not contribute equally during training of machine learning model, which might end up creating a bias.\n"
      ]
    },
    {
      "cell_type": "markdown",
      "metadata": {
        "id": "FpuV6heOxv3C"
      },
      "source": [
        "**Min-Max normalization**  technique is performed to scale value of data points between 0 and 1. "
      ]
    },
    {
      "cell_type": "code",
      "metadata": {
        "id": "UPGbIPz8zCUa",
        "outputId": "65e90c01-503d-4bcf-cb4f-51e747c1c1bf",
        "colab": {
          "base_uri": "https://localhost:8080/",
          "height": 256
        }
      },
      "source": [
        "minmax = {}\n",
        "i=1\n",
        "for d in arr_of_vect_datasets:\n",
        "    dataset = 'd' + str(i)\n",
        "    i = i+1\n",
        "    dataset_columns = eval(dataset).columns.levels[0][0:-1]\n",
        "    minmax[dataset] = pd.DataFrame(index=eval(dataset).index, columns=eval(dataset).columns)\n",
        "    for col in dataset_columns:\n",
        "        minmax[dataset][col] = (eval(dataset)[col]-eval(dataset)[col].min().min())/(eval(dataset)[col].max().max()-eval(dataset)[col].min().min() )\n",
        "\n",
        "db_minmax = pd.concat([minmax['d1'], minmax['d2'], minmax['d3'], minmax['d4'], minmax['d5'], minmax['d6'] , minmax['d7'], \n",
        "                  minmax['d8'], minmax['d9'], minmax['d10'], minmax['d11'], minmax['d12'], minmax['d13'], minmax['d14'],\n",
        "                  minmax['d15'], minmax['d16'],minmax['d17']], axis=1)\n",
        "db_minmax = db_minmax.interpolate(method='linear', axis=1, limit=10, limit_direction='both')\n",
        "\n",
        "db_minmax.head(3)"
      ],
      "execution_count": null,
      "outputs": [
        {
          "output_type": "execute_result",
          "data": {
            "text/html": [
              "<div>\n",
              "<style scoped>\n",
              "    .dataframe tbody tr th:only-of-type {\n",
              "        vertical-align: middle;\n",
              "    }\n",
              "\n",
              "    .dataframe tbody tr th {\n",
              "        vertical-align: top;\n",
              "    }\n",
              "\n",
              "    .dataframe thead tr th {\n",
              "        text-align: left;\n",
              "    }\n",
              "\n",
              "    .dataframe thead tr:last-of-type th {\n",
              "        text-align: right;\n",
              "    }\n",
              "</style>\n",
              "<table border=\"1\" class=\"dataframe\">\n",
              "  <thead>\n",
              "    <tr>\n",
              "      <th></th>\n",
              "      <th colspan=\"7\" halign=\"left\">NP1COG</th>\n",
              "      <th colspan=\"7\" halign=\"left\">NP1HALL</th>\n",
              "      <th colspan=\"7\" halign=\"left\">NP1DPRS</th>\n",
              "      <th colspan=\"7\" halign=\"left\">NP1ANXS</th>\n",
              "      <th colspan=\"7\" halign=\"left\">NP1APAT</th>\n",
              "      <th colspan=\"5\" halign=\"left\">NP1DDS</th>\n",
              "      <th>...</th>\n",
              "      <th colspan=\"4\" halign=\"left\">CN7RSP</th>\n",
              "      <th colspan=\"6\" halign=\"left\">CN8RSP</th>\n",
              "      <th colspan=\"6\" halign=\"left\">CN910RSP</th>\n",
              "      <th colspan=\"6\" halign=\"left\">CN11RSP</th>\n",
              "      <th colspan=\"6\" halign=\"left\">CN12RSP</th>\n",
              "      <th colspan=\"6\" halign=\"left\">SDMTOTAL</th>\n",
              "      <th colspan=\"6\" halign=\"left\">JLO_TOTRAW</th>\n",
              "    </tr>\n",
              "    <tr>\n",
              "      <th>EVENT_ID</th>\n",
              "      <th>BL</th>\n",
              "      <th>V02</th>\n",
              "      <th>V04</th>\n",
              "      <th>V06</th>\n",
              "      <th>V08</th>\n",
              "      <th>V10</th>\n",
              "      <th>V12</th>\n",
              "      <th>BL</th>\n",
              "      <th>V02</th>\n",
              "      <th>V04</th>\n",
              "      <th>V06</th>\n",
              "      <th>V08</th>\n",
              "      <th>V10</th>\n",
              "      <th>V12</th>\n",
              "      <th>BL</th>\n",
              "      <th>V02</th>\n",
              "      <th>V04</th>\n",
              "      <th>V06</th>\n",
              "      <th>V08</th>\n",
              "      <th>V10</th>\n",
              "      <th>V12</th>\n",
              "      <th>BL</th>\n",
              "      <th>V02</th>\n",
              "      <th>V04</th>\n",
              "      <th>V06</th>\n",
              "      <th>V08</th>\n",
              "      <th>V10</th>\n",
              "      <th>V12</th>\n",
              "      <th>BL</th>\n",
              "      <th>V02</th>\n",
              "      <th>V04</th>\n",
              "      <th>V06</th>\n",
              "      <th>V08</th>\n",
              "      <th>V10</th>\n",
              "      <th>V12</th>\n",
              "      <th>BL</th>\n",
              "      <th>V02</th>\n",
              "      <th>V04</th>\n",
              "      <th>V06</th>\n",
              "      <th>V08</th>\n",
              "      <th>...</th>\n",
              "      <th>V06</th>\n",
              "      <th>V08</th>\n",
              "      <th>V10</th>\n",
              "      <th>V12</th>\n",
              "      <th>BL</th>\n",
              "      <th>V04</th>\n",
              "      <th>V06</th>\n",
              "      <th>V08</th>\n",
              "      <th>V10</th>\n",
              "      <th>V12</th>\n",
              "      <th>BL</th>\n",
              "      <th>V04</th>\n",
              "      <th>V06</th>\n",
              "      <th>V08</th>\n",
              "      <th>V10</th>\n",
              "      <th>V12</th>\n",
              "      <th>BL</th>\n",
              "      <th>V04</th>\n",
              "      <th>V06</th>\n",
              "      <th>V08</th>\n",
              "      <th>V10</th>\n",
              "      <th>V12</th>\n",
              "      <th>BL</th>\n",
              "      <th>V04</th>\n",
              "      <th>V06</th>\n",
              "      <th>V08</th>\n",
              "      <th>V10</th>\n",
              "      <th>V12</th>\n",
              "      <th>BL</th>\n",
              "      <th>V04</th>\n",
              "      <th>V06</th>\n",
              "      <th>V08</th>\n",
              "      <th>V10</th>\n",
              "      <th>V12</th>\n",
              "      <th>BL</th>\n",
              "      <th>V04</th>\n",
              "      <th>V06</th>\n",
              "      <th>V08</th>\n",
              "      <th>V10</th>\n",
              "      <th>V12</th>\n",
              "    </tr>\n",
              "    <tr>\n",
              "      <th>PATNO</th>\n",
              "      <th></th>\n",
              "      <th></th>\n",
              "      <th></th>\n",
              "      <th></th>\n",
              "      <th></th>\n",
              "      <th></th>\n",
              "      <th></th>\n",
              "      <th></th>\n",
              "      <th></th>\n",
              "      <th></th>\n",
              "      <th></th>\n",
              "      <th></th>\n",
              "      <th></th>\n",
              "      <th></th>\n",
              "      <th></th>\n",
              "      <th></th>\n",
              "      <th></th>\n",
              "      <th></th>\n",
              "      <th></th>\n",
              "      <th></th>\n",
              "      <th></th>\n",
              "      <th></th>\n",
              "      <th></th>\n",
              "      <th></th>\n",
              "      <th></th>\n",
              "      <th></th>\n",
              "      <th></th>\n",
              "      <th></th>\n",
              "      <th></th>\n",
              "      <th></th>\n",
              "      <th></th>\n",
              "      <th></th>\n",
              "      <th></th>\n",
              "      <th></th>\n",
              "      <th></th>\n",
              "      <th></th>\n",
              "      <th></th>\n",
              "      <th></th>\n",
              "      <th></th>\n",
              "      <th></th>\n",
              "      <th></th>\n",
              "      <th></th>\n",
              "      <th></th>\n",
              "      <th></th>\n",
              "      <th></th>\n",
              "      <th></th>\n",
              "      <th></th>\n",
              "      <th></th>\n",
              "      <th></th>\n",
              "      <th></th>\n",
              "      <th></th>\n",
              "      <th></th>\n",
              "      <th></th>\n",
              "      <th></th>\n",
              "      <th></th>\n",
              "      <th></th>\n",
              "      <th></th>\n",
              "      <th></th>\n",
              "      <th></th>\n",
              "      <th></th>\n",
              "      <th></th>\n",
              "      <th></th>\n",
              "      <th></th>\n",
              "      <th></th>\n",
              "      <th></th>\n",
              "      <th></th>\n",
              "      <th></th>\n",
              "      <th></th>\n",
              "      <th></th>\n",
              "      <th></th>\n",
              "      <th></th>\n",
              "      <th></th>\n",
              "      <th></th>\n",
              "      <th></th>\n",
              "      <th></th>\n",
              "      <th></th>\n",
              "      <th></th>\n",
              "      <th></th>\n",
              "      <th></th>\n",
              "      <th></th>\n",
              "      <th></th>\n",
              "    </tr>\n",
              "  </thead>\n",
              "  <tbody>\n",
              "    <tr>\n",
              "      <th>3000</th>\n",
              "      <td>0.25</td>\n",
              "      <td>0.125</td>\n",
              "      <td>0.00</td>\n",
              "      <td>0.25</td>\n",
              "      <td>0.25</td>\n",
              "      <td>0.00</td>\n",
              "      <td>0.25</td>\n",
              "      <td>0.0</td>\n",
              "      <td>0.0</td>\n",
              "      <td>0.0</td>\n",
              "      <td>0.0</td>\n",
              "      <td>0.0</td>\n",
              "      <td>0.00</td>\n",
              "      <td>0.0</td>\n",
              "      <td>0.25</td>\n",
              "      <td>0.25</td>\n",
              "      <td>0.25</td>\n",
              "      <td>0.25</td>\n",
              "      <td>0.00</td>\n",
              "      <td>0.0</td>\n",
              "      <td>0.25</td>\n",
              "      <td>0.25</td>\n",
              "      <td>0.125</td>\n",
              "      <td>0.00</td>\n",
              "      <td>0.25</td>\n",
              "      <td>0.50</td>\n",
              "      <td>0.00</td>\n",
              "      <td>0.25</td>\n",
              "      <td>0.000000</td>\n",
              "      <td>0.000000</td>\n",
              "      <td>0.000000</td>\n",
              "      <td>0.000000</td>\n",
              "      <td>0.0</td>\n",
              "      <td>0.0</td>\n",
              "      <td>0.0</td>\n",
              "      <td>0.0</td>\n",
              "      <td>0.0</td>\n",
              "      <td>0.0</td>\n",
              "      <td>0.0</td>\n",
              "      <td>0.0</td>\n",
              "      <td>...</td>\n",
              "      <td>0.0</td>\n",
              "      <td>0.0</td>\n",
              "      <td>0.0</td>\n",
              "      <td>0.0</td>\n",
              "      <td>0.0</td>\n",
              "      <td>0.0</td>\n",
              "      <td>0.0</td>\n",
              "      <td>0.0</td>\n",
              "      <td>0.0</td>\n",
              "      <td>0.0</td>\n",
              "      <td>0.0</td>\n",
              "      <td>0.0</td>\n",
              "      <td>0.0</td>\n",
              "      <td>0.0</td>\n",
              "      <td>0.0</td>\n",
              "      <td>0.0</td>\n",
              "      <td>0.0</td>\n",
              "      <td>0.0</td>\n",
              "      <td>0.0</td>\n",
              "      <td>0.0</td>\n",
              "      <td>0.0</td>\n",
              "      <td>0.0</td>\n",
              "      <td>0.0</td>\n",
              "      <td>0.0</td>\n",
              "      <td>0.0</td>\n",
              "      <td>0.0</td>\n",
              "      <td>0.0</td>\n",
              "      <td>0.0</td>\n",
              "      <td>0.519608</td>\n",
              "      <td>0.539216</td>\n",
              "      <td>0.500000</td>\n",
              "      <td>0.519608</td>\n",
              "      <td>0.500000</td>\n",
              "      <td>0.519608</td>\n",
              "      <td>1.000000</td>\n",
              "      <td>1.0</td>\n",
              "      <td>0.933333</td>\n",
              "      <td>0.866667</td>\n",
              "      <td>0.933333</td>\n",
              "      <td>1.000000</td>\n",
              "    </tr>\n",
              "    <tr>\n",
              "      <th>3001</th>\n",
              "      <td>0.00</td>\n",
              "      <td>0.000</td>\n",
              "      <td>0.25</td>\n",
              "      <td>0.00</td>\n",
              "      <td>0.00</td>\n",
              "      <td>0.00</td>\n",
              "      <td>0.25</td>\n",
              "      <td>0.0</td>\n",
              "      <td>0.0</td>\n",
              "      <td>0.0</td>\n",
              "      <td>0.0</td>\n",
              "      <td>0.0</td>\n",
              "      <td>0.00</td>\n",
              "      <td>0.0</td>\n",
              "      <td>0.00</td>\n",
              "      <td>0.00</td>\n",
              "      <td>0.25</td>\n",
              "      <td>0.00</td>\n",
              "      <td>0.00</td>\n",
              "      <td>0.0</td>\n",
              "      <td>0.25</td>\n",
              "      <td>0.00</td>\n",
              "      <td>0.000</td>\n",
              "      <td>0.25</td>\n",
              "      <td>0.00</td>\n",
              "      <td>0.25</td>\n",
              "      <td>0.25</td>\n",
              "      <td>0.25</td>\n",
              "      <td>0.000000</td>\n",
              "      <td>0.000000</td>\n",
              "      <td>0.333333</td>\n",
              "      <td>0.000000</td>\n",
              "      <td>0.0</td>\n",
              "      <td>0.0</td>\n",
              "      <td>0.0</td>\n",
              "      <td>0.0</td>\n",
              "      <td>0.0</td>\n",
              "      <td>0.0</td>\n",
              "      <td>0.0</td>\n",
              "      <td>0.0</td>\n",
              "      <td>...</td>\n",
              "      <td>0.0</td>\n",
              "      <td>0.0</td>\n",
              "      <td>0.0</td>\n",
              "      <td>0.0</td>\n",
              "      <td>0.0</td>\n",
              "      <td>0.0</td>\n",
              "      <td>0.0</td>\n",
              "      <td>0.0</td>\n",
              "      <td>0.0</td>\n",
              "      <td>0.0</td>\n",
              "      <td>0.0</td>\n",
              "      <td>0.0</td>\n",
              "      <td>0.0</td>\n",
              "      <td>0.0</td>\n",
              "      <td>0.0</td>\n",
              "      <td>0.0</td>\n",
              "      <td>0.0</td>\n",
              "      <td>0.0</td>\n",
              "      <td>0.0</td>\n",
              "      <td>0.0</td>\n",
              "      <td>0.0</td>\n",
              "      <td>0.0</td>\n",
              "      <td>0.0</td>\n",
              "      <td>0.0</td>\n",
              "      <td>0.0</td>\n",
              "      <td>0.0</td>\n",
              "      <td>0.0</td>\n",
              "      <td>0.0</td>\n",
              "      <td>0.411765</td>\n",
              "      <td>0.352941</td>\n",
              "      <td>0.411765</td>\n",
              "      <td>0.470588</td>\n",
              "      <td>0.470588</td>\n",
              "      <td>0.441176</td>\n",
              "      <td>1.000000</td>\n",
              "      <td>0.8</td>\n",
              "      <td>1.000000</td>\n",
              "      <td>0.866667</td>\n",
              "      <td>0.933333</td>\n",
              "      <td>1.000000</td>\n",
              "    </tr>\n",
              "    <tr>\n",
              "      <th>3002</th>\n",
              "      <td>0.25</td>\n",
              "      <td>0.250</td>\n",
              "      <td>0.25</td>\n",
              "      <td>0.50</td>\n",
              "      <td>0.25</td>\n",
              "      <td>0.25</td>\n",
              "      <td>0.50</td>\n",
              "      <td>0.0</td>\n",
              "      <td>0.0</td>\n",
              "      <td>0.0</td>\n",
              "      <td>0.0</td>\n",
              "      <td>0.0</td>\n",
              "      <td>0.25</td>\n",
              "      <td>0.0</td>\n",
              "      <td>0.25</td>\n",
              "      <td>0.25</td>\n",
              "      <td>0.25</td>\n",
              "      <td>0.75</td>\n",
              "      <td>0.25</td>\n",
              "      <td>0.0</td>\n",
              "      <td>0.25</td>\n",
              "      <td>0.00</td>\n",
              "      <td>0.125</td>\n",
              "      <td>0.25</td>\n",
              "      <td>0.25</td>\n",
              "      <td>0.50</td>\n",
              "      <td>0.50</td>\n",
              "      <td>0.25</td>\n",
              "      <td>0.333333</td>\n",
              "      <td>0.166667</td>\n",
              "      <td>0.000000</td>\n",
              "      <td>0.666667</td>\n",
              "      <td>0.0</td>\n",
              "      <td>0.0</td>\n",
              "      <td>0.0</td>\n",
              "      <td>0.0</td>\n",
              "      <td>0.0</td>\n",
              "      <td>0.0</td>\n",
              "      <td>0.0</td>\n",
              "      <td>0.0</td>\n",
              "      <td>...</td>\n",
              "      <td>0.0</td>\n",
              "      <td>0.0</td>\n",
              "      <td>0.0</td>\n",
              "      <td>0.0</td>\n",
              "      <td>0.0</td>\n",
              "      <td>0.0</td>\n",
              "      <td>0.0</td>\n",
              "      <td>0.0</td>\n",
              "      <td>0.5</td>\n",
              "      <td>0.0</td>\n",
              "      <td>0.0</td>\n",
              "      <td>0.0</td>\n",
              "      <td>0.0</td>\n",
              "      <td>0.0</td>\n",
              "      <td>0.0</td>\n",
              "      <td>0.0</td>\n",
              "      <td>0.0</td>\n",
              "      <td>0.0</td>\n",
              "      <td>0.0</td>\n",
              "      <td>0.0</td>\n",
              "      <td>0.0</td>\n",
              "      <td>0.0</td>\n",
              "      <td>0.0</td>\n",
              "      <td>0.0</td>\n",
              "      <td>0.0</td>\n",
              "      <td>0.0</td>\n",
              "      <td>0.0</td>\n",
              "      <td>0.0</td>\n",
              "      <td>0.401961</td>\n",
              "      <td>0.372549</td>\n",
              "      <td>0.294118</td>\n",
              "      <td>0.431373</td>\n",
              "      <td>0.421569</td>\n",
              "      <td>0.372549</td>\n",
              "      <td>0.866667</td>\n",
              "      <td>0.8</td>\n",
              "      <td>0.866667</td>\n",
              "      <td>0.733333</td>\n",
              "      <td>1.000000</td>\n",
              "      <td>0.866667</td>\n",
              "    </tr>\n",
              "  </tbody>\n",
              "</table>\n",
              "<p>3 rows × 1595 columns</p>\n",
              "</div>"
            ],
            "text/plain": [
              "         NP1COG                     ... JLO_TOTRAW                              \n",
              "EVENT_ID     BL    V02   V04   V06  ...        V06       V08       V10       V12\n",
              "PATNO                               ...                                         \n",
              "3000       0.25  0.125  0.00  0.25  ...   0.933333  0.866667  0.933333  1.000000\n",
              "3001       0.00  0.000  0.25  0.00  ...   1.000000  0.866667  0.933333  1.000000\n",
              "3002       0.25  0.250  0.25  0.50  ...   0.866667  0.733333  1.000000  0.866667\n",
              "\n",
              "[3 rows x 1595 columns]"
            ]
          },
          "metadata": {
            "tags": []
          },
          "execution_count": 14
        }
      ]
    },
    {
      "cell_type": "markdown",
      "metadata": {
        "id": "tsT5wwzbuxr1"
      },
      "source": [
        "###Dimensionality Reduction\n",
        "\n",
        "Dimensionality reduction techniques are adpoted to scale down the number of covariate, dimensionality reduction technique is applied to group corelated features into new component vectors and prevent loss of information. "
      ]
    },
    {
      "cell_type": "code",
      "metadata": {
        "id": "G2GIoeMF4PcB",
        "outputId": "a4f2ce11-3380-45dc-ea66-30c7311d7f1c",
        "colab": {
          "base_uri": "https://localhost:8080/",
          "height": 241
        }
      },
      "source": [
        "db_selected = db_minmax #db_zs\n",
        "db_selected_labled = pd.concat([db_selected, merged_data[\"info\"].ENROLL_CAT], axis=1) # labeling of selected subjects\n",
        "db_selected_labled.head(3)"
      ],
      "execution_count": null,
      "outputs": [
        {
          "output_type": "execute_result",
          "data": {
            "text/html": [
              "<div>\n",
              "<style scoped>\n",
              "    .dataframe tbody tr th:only-of-type {\n",
              "        vertical-align: middle;\n",
              "    }\n",
              "\n",
              "    .dataframe tbody tr th {\n",
              "        vertical-align: top;\n",
              "    }\n",
              "\n",
              "    .dataframe thead th {\n",
              "        text-align: right;\n",
              "    }\n",
              "</style>\n",
              "<table border=\"1\" class=\"dataframe\">\n",
              "  <thead>\n",
              "    <tr style=\"text-align: right;\">\n",
              "      <th></th>\n",
              "      <th>(NP1COG, BL)</th>\n",
              "      <th>(NP1COG, V02)</th>\n",
              "      <th>(NP1COG, V04)</th>\n",
              "      <th>(NP1COG, V06)</th>\n",
              "      <th>(NP1COG, V08)</th>\n",
              "      <th>(NP1COG, V10)</th>\n",
              "      <th>(NP1COG, V12)</th>\n",
              "      <th>(NP1HALL, BL)</th>\n",
              "      <th>(NP1HALL, V02)</th>\n",
              "      <th>(NP1HALL, V04)</th>\n",
              "      <th>(NP1HALL, V06)</th>\n",
              "      <th>(NP1HALL, V08)</th>\n",
              "      <th>(NP1HALL, V10)</th>\n",
              "      <th>(NP1HALL, V12)</th>\n",
              "      <th>(NP1DPRS, BL)</th>\n",
              "      <th>(NP1DPRS, V02)</th>\n",
              "      <th>(NP1DPRS, V04)</th>\n",
              "      <th>(NP1DPRS, V06)</th>\n",
              "      <th>(NP1DPRS, V08)</th>\n",
              "      <th>(NP1DPRS, V10)</th>\n",
              "      <th>(NP1DPRS, V12)</th>\n",
              "      <th>(NP1ANXS, BL)</th>\n",
              "      <th>(NP1ANXS, V02)</th>\n",
              "      <th>(NP1ANXS, V04)</th>\n",
              "      <th>(NP1ANXS, V06)</th>\n",
              "      <th>(NP1ANXS, V08)</th>\n",
              "      <th>(NP1ANXS, V10)</th>\n",
              "      <th>(NP1ANXS, V12)</th>\n",
              "      <th>(NP1APAT, BL)</th>\n",
              "      <th>(NP1APAT, V02)</th>\n",
              "      <th>(NP1APAT, V04)</th>\n",
              "      <th>(NP1APAT, V06)</th>\n",
              "      <th>(NP1APAT, V08)</th>\n",
              "      <th>(NP1APAT, V10)</th>\n",
              "      <th>(NP1APAT, V12)</th>\n",
              "      <th>(NP1DDS, BL)</th>\n",
              "      <th>(NP1DDS, V02)</th>\n",
              "      <th>(NP1DDS, V04)</th>\n",
              "      <th>(NP1DDS, V06)</th>\n",
              "      <th>(NP1DDS, V08)</th>\n",
              "      <th>...</th>\n",
              "      <th>(CN7RSP, V08)</th>\n",
              "      <th>(CN7RSP, V10)</th>\n",
              "      <th>(CN7RSP, V12)</th>\n",
              "      <th>(CN8RSP, BL)</th>\n",
              "      <th>(CN8RSP, V04)</th>\n",
              "      <th>(CN8RSP, V06)</th>\n",
              "      <th>(CN8RSP, V08)</th>\n",
              "      <th>(CN8RSP, V10)</th>\n",
              "      <th>(CN8RSP, V12)</th>\n",
              "      <th>(CN910RSP, BL)</th>\n",
              "      <th>(CN910RSP, V04)</th>\n",
              "      <th>(CN910RSP, V06)</th>\n",
              "      <th>(CN910RSP, V08)</th>\n",
              "      <th>(CN910RSP, V10)</th>\n",
              "      <th>(CN910RSP, V12)</th>\n",
              "      <th>(CN11RSP, BL)</th>\n",
              "      <th>(CN11RSP, V04)</th>\n",
              "      <th>(CN11RSP, V06)</th>\n",
              "      <th>(CN11RSP, V08)</th>\n",
              "      <th>(CN11RSP, V10)</th>\n",
              "      <th>(CN11RSP, V12)</th>\n",
              "      <th>(CN12RSP, BL)</th>\n",
              "      <th>(CN12RSP, V04)</th>\n",
              "      <th>(CN12RSP, V06)</th>\n",
              "      <th>(CN12RSP, V08)</th>\n",
              "      <th>(CN12RSP, V10)</th>\n",
              "      <th>(CN12RSP, V12)</th>\n",
              "      <th>(SDMTOTAL, BL)</th>\n",
              "      <th>(SDMTOTAL, V04)</th>\n",
              "      <th>(SDMTOTAL, V06)</th>\n",
              "      <th>(SDMTOTAL, V08)</th>\n",
              "      <th>(SDMTOTAL, V10)</th>\n",
              "      <th>(SDMTOTAL, V12)</th>\n",
              "      <th>(JLO_TOTRAW, BL)</th>\n",
              "      <th>(JLO_TOTRAW, V04)</th>\n",
              "      <th>(JLO_TOTRAW, V06)</th>\n",
              "      <th>(JLO_TOTRAW, V08)</th>\n",
              "      <th>(JLO_TOTRAW, V10)</th>\n",
              "      <th>(JLO_TOTRAW, V12)</th>\n",
              "      <th>ENROLL_CAT</th>\n",
              "    </tr>\n",
              "    <tr>\n",
              "      <th>PATNO</th>\n",
              "      <th></th>\n",
              "      <th></th>\n",
              "      <th></th>\n",
              "      <th></th>\n",
              "      <th></th>\n",
              "      <th></th>\n",
              "      <th></th>\n",
              "      <th></th>\n",
              "      <th></th>\n",
              "      <th></th>\n",
              "      <th></th>\n",
              "      <th></th>\n",
              "      <th></th>\n",
              "      <th></th>\n",
              "      <th></th>\n",
              "      <th></th>\n",
              "      <th></th>\n",
              "      <th></th>\n",
              "      <th></th>\n",
              "      <th></th>\n",
              "      <th></th>\n",
              "      <th></th>\n",
              "      <th></th>\n",
              "      <th></th>\n",
              "      <th></th>\n",
              "      <th></th>\n",
              "      <th></th>\n",
              "      <th></th>\n",
              "      <th></th>\n",
              "      <th></th>\n",
              "      <th></th>\n",
              "      <th></th>\n",
              "      <th></th>\n",
              "      <th></th>\n",
              "      <th></th>\n",
              "      <th></th>\n",
              "      <th></th>\n",
              "      <th></th>\n",
              "      <th></th>\n",
              "      <th></th>\n",
              "      <th></th>\n",
              "      <th></th>\n",
              "      <th></th>\n",
              "      <th></th>\n",
              "      <th></th>\n",
              "      <th></th>\n",
              "      <th></th>\n",
              "      <th></th>\n",
              "      <th></th>\n",
              "      <th></th>\n",
              "      <th></th>\n",
              "      <th></th>\n",
              "      <th></th>\n",
              "      <th></th>\n",
              "      <th></th>\n",
              "      <th></th>\n",
              "      <th></th>\n",
              "      <th></th>\n",
              "      <th></th>\n",
              "      <th></th>\n",
              "      <th></th>\n",
              "      <th></th>\n",
              "      <th></th>\n",
              "      <th></th>\n",
              "      <th></th>\n",
              "      <th></th>\n",
              "      <th></th>\n",
              "      <th></th>\n",
              "      <th></th>\n",
              "      <th></th>\n",
              "      <th></th>\n",
              "      <th></th>\n",
              "      <th></th>\n",
              "      <th></th>\n",
              "      <th></th>\n",
              "      <th></th>\n",
              "      <th></th>\n",
              "      <th></th>\n",
              "      <th></th>\n",
              "      <th></th>\n",
              "      <th></th>\n",
              "    </tr>\n",
              "  </thead>\n",
              "  <tbody>\n",
              "    <tr>\n",
              "      <th>3000</th>\n",
              "      <td>0.25</td>\n",
              "      <td>0.125</td>\n",
              "      <td>0.00</td>\n",
              "      <td>0.25</td>\n",
              "      <td>0.25</td>\n",
              "      <td>0.00</td>\n",
              "      <td>0.25</td>\n",
              "      <td>0.0</td>\n",
              "      <td>0.0</td>\n",
              "      <td>0.0</td>\n",
              "      <td>0.0</td>\n",
              "      <td>0.0</td>\n",
              "      <td>0.00</td>\n",
              "      <td>0.0</td>\n",
              "      <td>0.25</td>\n",
              "      <td>0.25</td>\n",
              "      <td>0.25</td>\n",
              "      <td>0.25</td>\n",
              "      <td>0.00</td>\n",
              "      <td>0.0</td>\n",
              "      <td>0.25</td>\n",
              "      <td>0.25</td>\n",
              "      <td>0.125</td>\n",
              "      <td>0.00</td>\n",
              "      <td>0.25</td>\n",
              "      <td>0.50</td>\n",
              "      <td>0.00</td>\n",
              "      <td>0.25</td>\n",
              "      <td>0.000000</td>\n",
              "      <td>0.000000</td>\n",
              "      <td>0.000000</td>\n",
              "      <td>0.000000</td>\n",
              "      <td>0.0</td>\n",
              "      <td>0.0</td>\n",
              "      <td>0.0</td>\n",
              "      <td>0.0</td>\n",
              "      <td>0.0</td>\n",
              "      <td>0.0</td>\n",
              "      <td>0.0</td>\n",
              "      <td>0.0</td>\n",
              "      <td>...</td>\n",
              "      <td>0.0</td>\n",
              "      <td>0.0</td>\n",
              "      <td>0.0</td>\n",
              "      <td>0.0</td>\n",
              "      <td>0.0</td>\n",
              "      <td>0.0</td>\n",
              "      <td>0.0</td>\n",
              "      <td>0.0</td>\n",
              "      <td>0.0</td>\n",
              "      <td>0.0</td>\n",
              "      <td>0.0</td>\n",
              "      <td>0.0</td>\n",
              "      <td>0.0</td>\n",
              "      <td>0.0</td>\n",
              "      <td>0.0</td>\n",
              "      <td>0.0</td>\n",
              "      <td>0.0</td>\n",
              "      <td>0.0</td>\n",
              "      <td>0.0</td>\n",
              "      <td>0.0</td>\n",
              "      <td>0.0</td>\n",
              "      <td>0.0</td>\n",
              "      <td>0.0</td>\n",
              "      <td>0.0</td>\n",
              "      <td>0.0</td>\n",
              "      <td>0.0</td>\n",
              "      <td>0.0</td>\n",
              "      <td>0.519608</td>\n",
              "      <td>0.539216</td>\n",
              "      <td>0.500000</td>\n",
              "      <td>0.519608</td>\n",
              "      <td>0.500000</td>\n",
              "      <td>0.519608</td>\n",
              "      <td>1.000000</td>\n",
              "      <td>1.0</td>\n",
              "      <td>0.933333</td>\n",
              "      <td>0.866667</td>\n",
              "      <td>0.933333</td>\n",
              "      <td>1.000000</td>\n",
              "      <td>HC</td>\n",
              "    </tr>\n",
              "    <tr>\n",
              "      <th>3001</th>\n",
              "      <td>0.00</td>\n",
              "      <td>0.000</td>\n",
              "      <td>0.25</td>\n",
              "      <td>0.00</td>\n",
              "      <td>0.00</td>\n",
              "      <td>0.00</td>\n",
              "      <td>0.25</td>\n",
              "      <td>0.0</td>\n",
              "      <td>0.0</td>\n",
              "      <td>0.0</td>\n",
              "      <td>0.0</td>\n",
              "      <td>0.0</td>\n",
              "      <td>0.00</td>\n",
              "      <td>0.0</td>\n",
              "      <td>0.00</td>\n",
              "      <td>0.00</td>\n",
              "      <td>0.25</td>\n",
              "      <td>0.00</td>\n",
              "      <td>0.00</td>\n",
              "      <td>0.0</td>\n",
              "      <td>0.25</td>\n",
              "      <td>0.00</td>\n",
              "      <td>0.000</td>\n",
              "      <td>0.25</td>\n",
              "      <td>0.00</td>\n",
              "      <td>0.25</td>\n",
              "      <td>0.25</td>\n",
              "      <td>0.25</td>\n",
              "      <td>0.000000</td>\n",
              "      <td>0.000000</td>\n",
              "      <td>0.333333</td>\n",
              "      <td>0.000000</td>\n",
              "      <td>0.0</td>\n",
              "      <td>0.0</td>\n",
              "      <td>0.0</td>\n",
              "      <td>0.0</td>\n",
              "      <td>0.0</td>\n",
              "      <td>0.0</td>\n",
              "      <td>0.0</td>\n",
              "      <td>0.0</td>\n",
              "      <td>...</td>\n",
              "      <td>0.0</td>\n",
              "      <td>0.0</td>\n",
              "      <td>0.0</td>\n",
              "      <td>0.0</td>\n",
              "      <td>0.0</td>\n",
              "      <td>0.0</td>\n",
              "      <td>0.0</td>\n",
              "      <td>0.0</td>\n",
              "      <td>0.0</td>\n",
              "      <td>0.0</td>\n",
              "      <td>0.0</td>\n",
              "      <td>0.0</td>\n",
              "      <td>0.0</td>\n",
              "      <td>0.0</td>\n",
              "      <td>0.0</td>\n",
              "      <td>0.0</td>\n",
              "      <td>0.0</td>\n",
              "      <td>0.0</td>\n",
              "      <td>0.0</td>\n",
              "      <td>0.0</td>\n",
              "      <td>0.0</td>\n",
              "      <td>0.0</td>\n",
              "      <td>0.0</td>\n",
              "      <td>0.0</td>\n",
              "      <td>0.0</td>\n",
              "      <td>0.0</td>\n",
              "      <td>0.0</td>\n",
              "      <td>0.411765</td>\n",
              "      <td>0.352941</td>\n",
              "      <td>0.411765</td>\n",
              "      <td>0.470588</td>\n",
              "      <td>0.470588</td>\n",
              "      <td>0.441176</td>\n",
              "      <td>1.000000</td>\n",
              "      <td>0.8</td>\n",
              "      <td>1.000000</td>\n",
              "      <td>0.866667</td>\n",
              "      <td>0.933333</td>\n",
              "      <td>1.000000</td>\n",
              "      <td>PD</td>\n",
              "    </tr>\n",
              "    <tr>\n",
              "      <th>3002</th>\n",
              "      <td>0.25</td>\n",
              "      <td>0.250</td>\n",
              "      <td>0.25</td>\n",
              "      <td>0.50</td>\n",
              "      <td>0.25</td>\n",
              "      <td>0.25</td>\n",
              "      <td>0.50</td>\n",
              "      <td>0.0</td>\n",
              "      <td>0.0</td>\n",
              "      <td>0.0</td>\n",
              "      <td>0.0</td>\n",
              "      <td>0.0</td>\n",
              "      <td>0.25</td>\n",
              "      <td>0.0</td>\n",
              "      <td>0.25</td>\n",
              "      <td>0.25</td>\n",
              "      <td>0.25</td>\n",
              "      <td>0.75</td>\n",
              "      <td>0.25</td>\n",
              "      <td>0.0</td>\n",
              "      <td>0.25</td>\n",
              "      <td>0.00</td>\n",
              "      <td>0.125</td>\n",
              "      <td>0.25</td>\n",
              "      <td>0.25</td>\n",
              "      <td>0.50</td>\n",
              "      <td>0.50</td>\n",
              "      <td>0.25</td>\n",
              "      <td>0.333333</td>\n",
              "      <td>0.166667</td>\n",
              "      <td>0.000000</td>\n",
              "      <td>0.666667</td>\n",
              "      <td>0.0</td>\n",
              "      <td>0.0</td>\n",
              "      <td>0.0</td>\n",
              "      <td>0.0</td>\n",
              "      <td>0.0</td>\n",
              "      <td>0.0</td>\n",
              "      <td>0.0</td>\n",
              "      <td>0.0</td>\n",
              "      <td>...</td>\n",
              "      <td>0.0</td>\n",
              "      <td>0.0</td>\n",
              "      <td>0.0</td>\n",
              "      <td>0.0</td>\n",
              "      <td>0.0</td>\n",
              "      <td>0.0</td>\n",
              "      <td>0.0</td>\n",
              "      <td>0.5</td>\n",
              "      <td>0.0</td>\n",
              "      <td>0.0</td>\n",
              "      <td>0.0</td>\n",
              "      <td>0.0</td>\n",
              "      <td>0.0</td>\n",
              "      <td>0.0</td>\n",
              "      <td>0.0</td>\n",
              "      <td>0.0</td>\n",
              "      <td>0.0</td>\n",
              "      <td>0.0</td>\n",
              "      <td>0.0</td>\n",
              "      <td>0.0</td>\n",
              "      <td>0.0</td>\n",
              "      <td>0.0</td>\n",
              "      <td>0.0</td>\n",
              "      <td>0.0</td>\n",
              "      <td>0.0</td>\n",
              "      <td>0.0</td>\n",
              "      <td>0.0</td>\n",
              "      <td>0.401961</td>\n",
              "      <td>0.372549</td>\n",
              "      <td>0.294118</td>\n",
              "      <td>0.431373</td>\n",
              "      <td>0.421569</td>\n",
              "      <td>0.372549</td>\n",
              "      <td>0.866667</td>\n",
              "      <td>0.8</td>\n",
              "      <td>0.866667</td>\n",
              "      <td>0.733333</td>\n",
              "      <td>1.000000</td>\n",
              "      <td>0.866667</td>\n",
              "      <td>PD</td>\n",
              "    </tr>\n",
              "  </tbody>\n",
              "</table>\n",
              "<p>3 rows × 1596 columns</p>\n",
              "</div>"
            ],
            "text/plain": [
              "       (NP1COG, BL)  (NP1COG, V02)  ...  (JLO_TOTRAW, V12)  ENROLL_CAT\n",
              "PATNO                               ...                               \n",
              "3000           0.25          0.125  ...           1.000000          HC\n",
              "3001           0.00          0.000  ...           1.000000          PD\n",
              "3002           0.25          0.250  ...           0.866667          PD\n",
              "\n",
              "[3 rows x 1596 columns]"
            ]
          },
          "metadata": {
            "tags": []
          },
          "execution_count": 15
        }
      ]
    },
    {
      "cell_type": "markdown",
      "metadata": {
        "id": "EwXmWFXKzB90"
      },
      "source": [
        "**Technique 1:** Principal Component Analysis (PCA)\\\n",
        "\\\n",
        "PCA technique is applied to extract the linear combinations of different variables that correlates to the direction with maximum sample variance. Succeeding PCA vector branches out to \u001cfind a direction that gives highest variance such that it is orthogonal (uncorrelated) to preceding ones.\n"
      ]
    },
    {
      "cell_type": "code",
      "metadata": {
        "id": "JyYH-cnTICcW",
        "outputId": "4797caa4-880f-4db2-ae52-f9a6ccabda9d",
        "colab": {
          "base_uri": "https://localhost:8080/",
          "height": 174
        }
      },
      "source": [
        "pca_targets = ['p1','p2','p3']\n",
        "\n",
        "m_pca = pd.DataFrame(index=db_selected.index, columns=pca_targets) \n",
        "model_pca = sklearnPCA(n_components=3)\n",
        "m_pca[['p1','p2','p3']] = model_pca.fit_transform(db_selected) \n",
        "\n",
        "m_pca.head(3)"
      ],
      "execution_count": null,
      "outputs": [
        {
          "output_type": "execute_result",
          "data": {
            "text/html": [
              "<div>\n",
              "<style scoped>\n",
              "    .dataframe tbody tr th:only-of-type {\n",
              "        vertical-align: middle;\n",
              "    }\n",
              "\n",
              "    .dataframe tbody tr th {\n",
              "        vertical-align: top;\n",
              "    }\n",
              "\n",
              "    .dataframe thead th {\n",
              "        text-align: right;\n",
              "    }\n",
              "</style>\n",
              "<table border=\"1\" class=\"dataframe\">\n",
              "  <thead>\n",
              "    <tr style=\"text-align: right;\">\n",
              "      <th></th>\n",
              "      <th>p1</th>\n",
              "      <th>p2</th>\n",
              "      <th>p3</th>\n",
              "    </tr>\n",
              "    <tr>\n",
              "      <th>PATNO</th>\n",
              "      <th></th>\n",
              "      <th></th>\n",
              "      <th></th>\n",
              "    </tr>\n",
              "  </thead>\n",
              "  <tbody>\n",
              "    <tr>\n",
              "      <th>3000</th>\n",
              "      <td>-2.858799</td>\n",
              "      <td>1.612146</td>\n",
              "      <td>-0.913865</td>\n",
              "    </tr>\n",
              "    <tr>\n",
              "      <th>3001</th>\n",
              "      <td>0.715528</td>\n",
              "      <td>-1.962380</td>\n",
              "      <td>1.095407</td>\n",
              "    </tr>\n",
              "    <tr>\n",
              "      <th>3002</th>\n",
              "      <td>5.141508</td>\n",
              "      <td>-0.210450</td>\n",
              "      <td>1.238283</td>\n",
              "    </tr>\n",
              "  </tbody>\n",
              "</table>\n",
              "</div>"
            ],
            "text/plain": [
              "             p1        p2        p3\n",
              "PATNO                              \n",
              "3000  -2.858799  1.612146 -0.913865\n",
              "3001   0.715528 -1.962380  1.095407\n",
              "3002   5.141508 -0.210450  1.238283"
            ]
          },
          "metadata": {
            "tags": []
          },
          "execution_count": 16
        }
      ]
    },
    {
      "cell_type": "code",
      "metadata": {
        "id": "m8-aX_Execva",
        "outputId": "cbab7d25-1735-4f3c-a889-e4ff7e715615",
        "colab": {
          "base_uri": "https://localhost:8080/",
          "height": 308
        }
      },
      "source": [
        "fig=plt.figure(figsize=(6,4))  \n",
        "ax=fig.add_subplot(1,1,1)  \n",
        "ax.set_xlabel('Component 1',fontsize = 15)  \n",
        "ax.set_ylabel('Component 2',fontsize = 15)  \n",
        "ax.set_title('Dimensionality reduction using PCA',fontsize=20) \n",
        "colors = ['r','y']\n",
        "targets = ['HC','PD']\n",
        "target = merged_data[\"info\"].ENROLL_CAT\n",
        "#target = db_selected.iloc[:,-1]\n",
        "for target,color in zip(targets,colors):    \n",
        "     indicesToKeep = merged_data[\"info\"].ENROLL_CAT == target  \n",
        "     ax.scatter(m_pca.loc[indicesToKeep,'p1'], m_pca.loc[indicesToKeep,'p2'], c=color, s=40)\n",
        "ax.legend(targets)  \n",
        "ax.grid()"
      ],
      "execution_count": null,
      "outputs": [
        {
          "output_type": "display_data",
          "data": {
            "image/png": "[encoded data removed]",
            "text/plain": [
              "<Figure size 432x288 with 1 Axes>"
            ]
          },
          "metadata": {
            "tags": []
          }
        }
      ]
    },
    {
      "cell_type": "markdown",
      "metadata": {
        "id": "NzDjaYIWypkK"
      },
      "source": [
        "**Technique 2:** Nonnegative Matrix Factorization (NMF)\\\n",
        "\\\n",
        "NMF is an alternative technique for decomposition of variables that assumes data and the components to be non-negative. Unlike PCA, which tends to group both positively as well as negatively correlated components together. NMF tends to finds patterns amoung variable with the same direction of correlation."
      ]
    },
    {
      "cell_type": "code",
      "metadata": {
        "id": "qcf2YcARmqNT",
        "outputId": "9b03012f-7d47-41ee-f9de-fb47c7ad7646",
        "colab": {
          "base_uri": "https://localhost:8080/",
          "height": 174
        }
      },
      "source": [
        "nmf_targets = ['n1','n2']\n",
        "#db = db_minmax.drop(['ENROLL_CAT'], axis=1)\n",
        "\n",
        "m_nmf = pd.DataFrame(index=db_selected.index, columns=nmf_targets) \n",
        "model_NMF = decomposition.NMF(n_components=2, init='nndsvda', max_iter=200)\n",
        "m_nmf[['n1', 'n2']] = model_NMF.fit_transform(db_selected)\n",
        "#m_nmf = pd.concat([m_nmf,db_minmax[['ENROLL_CAT']]],axis=1)\n",
        "m_nmf.head(3)"
      ],
      "execution_count": null,
      "outputs": [
        {
          "output_type": "execute_result",
          "data": {
            "text/html": [
              "<div>\n",
              "<style scoped>\n",
              "    .dataframe tbody tr th:only-of-type {\n",
              "        vertical-align: middle;\n",
              "    }\n",
              "\n",
              "    .dataframe tbody tr th {\n",
              "        vertical-align: top;\n",
              "    }\n",
              "\n",
              "    .dataframe thead th {\n",
              "        text-align: right;\n",
              "    }\n",
              "</style>\n",
              "<table border=\"1\" class=\"dataframe\">\n",
              "  <thead>\n",
              "    <tr style=\"text-align: right;\">\n",
              "      <th></th>\n",
              "      <th>n1</th>\n",
              "      <th>n2</th>\n",
              "    </tr>\n",
              "    <tr>\n",
              "      <th>PATNO</th>\n",
              "      <th></th>\n",
              "      <th></th>\n",
              "    </tr>\n",
              "  </thead>\n",
              "  <tbody>\n",
              "    <tr>\n",
              "      <th>3000</th>\n",
              "      <td>0.854110</td>\n",
              "      <td>0.091709</td>\n",
              "    </tr>\n",
              "    <tr>\n",
              "      <th>3001</th>\n",
              "      <td>0.658744</td>\n",
              "      <td>0.498369</td>\n",
              "    </tr>\n",
              "    <tr>\n",
              "      <th>3002</th>\n",
              "      <td>0.325762</td>\n",
              "      <td>0.839209</td>\n",
              "    </tr>\n",
              "  </tbody>\n",
              "</table>\n",
              "</div>"
            ],
            "text/plain": [
              "             n1        n2\n",
              "PATNO                    \n",
              "3000   0.854110  0.091709\n",
              "3001   0.658744  0.498369\n",
              "3002   0.325762  0.839209"
            ]
          },
          "metadata": {
            "tags": []
          },
          "execution_count": 18
        }
      ]
    },
    {
      "cell_type": "code",
      "metadata": {
        "id": "9Tq6FYWMxwQs",
        "outputId": "f4f9f1a3-31b1-44ab-cd2e-923624b36206",
        "colab": {
          "base_uri": "https://localhost:8080/",
          "height": 308
        }
      },
      "source": [
        "fig=plt.figure(figsize=(6,4))  \n",
        "ax=fig.add_subplot(1,1,1)  \n",
        "ax.set_xlabel('Component 1',fontsize = 15)  \n",
        "ax.set_ylabel('Component 2',fontsize = 15)  \n",
        "ax.set_title('Dimensionality reduction using NMF',fontsize=20) \n",
        "colors = ['r','y']\n",
        "targets = ['HC','PD']\n",
        "target = merged_data[\"info\"].ENROLL_CAT\n",
        "#target = m_nmf.iloc[:,-1]\n",
        "for target,color in zip(targets,colors):    \n",
        "     indicesToKeep = merged_data[\"info\"].ENROLL_CAT == target \n",
        "     ax.scatter(m_nmf.loc[indicesToKeep,'n1'], m_nmf.loc[indicesToKeep,'n2'], c=color, s=40)\n",
        "ax.legend(targets)  \n",
        "ax.grid()"
      ],
      "execution_count": null,
      "outputs": [
        {
          "output_type": "display_data",
          "data": {
            "image/png": "[encoded data removed]",
            "text/plain": [
              "<Figure size 432x288 with 1 Axes>"
            ]
          },
          "metadata": {
            "tags": []
          }
        }
      ]
    },
    {
      "cell_type": "markdown",
      "metadata": {
        "id": "MqaN5cT72yZP"
      },
      "source": [
        "**Inferrence**\n",
        "\n",
        "NMF is best suited for clustering with non-negative data and over gaussian data. And as MinMax Normalization technique results in non-negetive datapoint values between 0-1 and data is gaussian in nature, NMF technique is adopeted. It finds\u001c sparse and parts-based representation of the data. Whereas, PCA it is ideal for pattern recognition and dimension reduction."
      ]
    },
    {
      "cell_type": "markdown",
      "metadata": {
        "id": "Bu81WF_Ru6Dm"
      },
      "source": [
        "###**Unsupervised Clustering**"
      ]
    },
    {
      "cell_type": "markdown",
      "metadata": {
        "id": "bz1HgDequhjJ"
      },
      "source": [
        "Clustering based on Gaussian Mixture Modelling (GMM) techniques generates data clusters by grouping similar data points based on their feature and correlation between the points. In proposed design data points are grouped into 3 clusters, where each cluster defines the risk of PD progression among the patient. These clusters are marked as Low, Medium and High referencing to progression rate.\n"
      ]
    },
    {
      "cell_type": "code",
      "metadata": {
        "id": "vBZsOq0gFReE",
        "outputId": "f234a4dd-cd00-499c-db42-a0ccd4200bf7",
        "colab": {
          "base_uri": "https://localhost:8080/",
          "height": 86
        }
      },
      "source": [
        "clus_col = ['GMM']\n",
        "clus_lable = pd.DataFrame(index=db_selected.index, columns=clus_col)\n",
        "clus_lable[ db_selected_labled.ENROLL_CAT == \"HC\" ] = 'HC'\n",
        "\n",
        "gmm_chosen = m_pca #m_pca #m_nmf\n",
        "gmm_chosen_pd = gmm_chosen[ db_selected_labled.ENROLL_CAT == \"PD\" ]\n",
        "gmm_chosen_pd_hc = gmm_chosen[ db_selected_labled.ENROLL_CAT.isin(['HC', 'PD'])]\n",
        "\n",
        "model_gmm = mixture.GaussianMixture(n_components=3, covariance_type='full', random_state=10)\n",
        "model_gmm.fit(gmm_chosen_pd)"
      ],
      "execution_count": null,
      "outputs": [
        {
          "output_type": "execute_result",
          "data": {
            "text/plain": [
              "GaussianMixture(covariance_type='full', init_params='kmeans', max_iter=100,\n",
              "                means_init=None, n_components=3, n_init=1, precisions_init=None,\n",
              "                random_state=10, reg_covar=1e-06, tol=0.001, verbose=0,\n",
              "                verbose_interval=10, warm_start=False, weights_init=None)"
            ]
          },
          "metadata": {
            "tags": []
          },
          "execution_count": 20
        }
      ]
    },
    {
      "cell_type": "code",
      "metadata": {
        "id": "GghiVMqok6Mk",
        "outputId": "3599cc0d-c697-4378-da71-a9489538e678",
        "colab": {
          "base_uri": "https://localhost:8080/",
          "height": 501
        }
      },
      "source": [
        "clus_lable.loc[ db_selected_labled.ENROLL_CAT == \"PD\", 'GMM' ] = model_gmm.predict(gmm_chosen_pd)\n",
        "clus_lable.replace([1,0,2],['PD_l', 'PD_m', 'PD_h'], inplace=True)\n",
        "clus_lable_pd = clus_lable[db_selected_labled.ENROLL_CAT.isin(['PD'])]\n",
        "clus_lable_pd_hc = clus_lable[db_selected_labled.ENROLL_CAT.isin(['HC', 'PD'])]\n",
        "\n",
        "# plot predicted PD and HC\n",
        "plt.figure(figsize=(10, 8))\n",
        "colors = ['r' if i=='HC' else 'g' if i=='PD_l' else 'b' if i=='PD_m' else 'y' if i=='PD_h' else 'black' for i in clus_lable_pd_hc['GMM']]\n",
        "ax = plt.scatter(gmm_chosen_pd_hc.iloc[:,0], gmm_chosen_pd_hc.iloc[:,1], c=colors, alpha=0.8)#gca()\n",
        "p1 = plt.Rectangle((0, 0), 0.1, 0.1, fc='yellow')\n",
        "p2 = plt.Rectangle((0, 0), 0.1, 0.1, fc='blue')\n",
        "p3 = plt.Rectangle((0, 0), 0.1, 0.1, fc='green')\n",
        "p4 = plt.Rectangle((0, 0), 0.1, 0.1, fc='red')\n",
        "plt.legend((p1, p2, p3, p4), ('PD w/ High progression', 'PD w/ Mid progression', 'PD w/ Low progression', 'Healthy Control'), loc='best')\n",
        "plt.title('Clusters based on levels PD pregression')\n",
        "plt.show()"
      ],
      "execution_count": null,
      "outputs": [
        {
          "output_type": "display_data",
          "data": {
            "image/png": "[encoded data removed]",
            "text/plain": [
              "<Figure size 720x576 with 1 Axes>"
            ]
          },
          "metadata": {
            "tags": []
          }
        }
      ]
    },
    {
      "cell_type": "markdown",
      "metadata": {
        "id": "GfcZg3fbdmUF"
      },
      "source": [
        "Above scatter plot represents the colored distribution of generated clusters.  "
      ]
    },
    {
      "cell_type": "markdown",
      "metadata": {
        "id": "1mOeLnHhvLt-"
      },
      "source": [
        "###Ensemble Models\n",
        "\n",
        "For the purpose of study, a comparative study on various classification algorithm is conducted to determine the classification accuracy on this dataset. Models trained for purpose of Study are,\n",
        "1. Nearest Neighbors\n",
        "2. Support Vector Machine\n",
        "3. Decision Tree\n",
        "4. Random Forest Classifier\n",
        "5. AdaBoost\n",
        "6. XGBoost\n",
        "7. Multi-Layer Perceptron Model"
      ]
    },
    {
      "cell_type": "markdown",
      "metadata": {
        "id": "uWiW106DaYNl"
      },
      "source": [
        "**Step 1: Splitting Dataset into Train and Test data**"
      ]
    },
    {
      "cell_type": "code",
      "metadata": {
        "id": "A9MaeMd7VrFp"
      },
      "source": [
        "from sklearn.model_selection import train_test_split\n",
        "\n",
        "random.seed(123)\n",
        "#Splitting Data into train and test datasets\n",
        "X = db_selected.loc[clus_lable_pd_hc.index, db_selected.columns.get_level_values(1)=='BL'] \n",
        "X = X.stack().reset_index().set_index('PATNO').drop('EVENT_ID',axis =1)\n",
        "Y = clus_lable_pd_hc.GMM.replace(['HC', 'PD_l', 'PD_m', 'PD_h'], [0, 1, 2, 3])\n",
        "X_train, X_test, Y_train, Y_test = train_test_split(X, Y, test_size=0.2, random_state=42)"
      ],
      "execution_count": null,
      "outputs": []
    },
    {
      "cell_type": "markdown",
      "metadata": {
        "id": "bmuAwELFaM9z"
      },
      "source": [
        " **Step 2: Training Classification Models**"
      ]
    },
    {
      "cell_type": "code",
      "metadata": {
        "id": "1p6Fz-W6Y073"
      },
      "source": [
        "from sklearn.neighbors import KNeighborsClassifier\n",
        "from sklearn.svm import SVC\n",
        "from sklearn.tree import DecisionTreeClassifier\n",
        "from sklearn.ensemble import RandomForestClassifier, AdaBoostClassifier\n",
        "from xgboost import XGBClassifier\n",
        "\n",
        "\n",
        "classifier_names = [\"Nearest Neighbors\", \"SVM\", \"Decision Tree\", \"Random Forest Classifier\", \n",
        "                    \"AdaBoost\", \"XGBoost\"]\n",
        "\n",
        "classifiers = [\n",
        "    KNeighborsClassifier(),\n",
        "    SVC(kernel=\"linear\", C=0.025, class_weight='balanced'),\n",
        "    DecisionTreeClassifier(class_weight='balanced'),\n",
        "    RandomForestClassifier(class_weight='balanced'),\n",
        "    AdaBoostClassifier(),\n",
        "    XGBClassifier()]\n",
        "\n",
        "scores = []\n",
        "for n, c in zip(classifier_names, classifiers):\n",
        "    c.fit(X_train, Y_train)\n",
        "    score = c.score(X_test, Y_test)\n",
        "    scores.append(score)"
      ],
      "execution_count": null,
      "outputs": []
    },
    {
      "cell_type": "markdown",
      "metadata": {
        "id": "U2uSLB1AghcR"
      },
      "source": [
        "**Step 3: Model Performance Comparision**"
      ]
    },
    {
      "cell_type": "code",
      "metadata": {
        "id": "eQokpammf_3k",
        "outputId": "db29a71b-b9a8-422a-efde-a2bb77608271",
        "colab": {
          "base_uri": "https://localhost:8080/",
          "height": 301
        }
      },
      "source": [
        "plt.figure(1, figsize=(6, 4))\n",
        "imp, names = zip(*sorted(zip(scores, classifier_names)))\n",
        "plt.barh(range(len(names)), imp, align = 'center')\n",
        "plt.yticks(range(len(names)), names)\n",
        "plt.xlabel('Classifier performance')\n",
        "plt.ylabel('Classifiers')\n",
        "plt.title('Comparision of different classifiers')\n",
        "plt.show()"
      ],
      "execution_count": null,
      "outputs": [
        {
          "output_type": "display_data",
          "data": {
            "image/png": "[encoded data removed]",
            "text/plain": [
              "<Figure size 432x288 with 1 Axes>"
            ]
          },
          "metadata": {
            "tags": []
          }
        }
      ]
    },
    {
      "cell_type": "markdown",
      "metadata": {
        "id": "U5Uaf1oaaG97"
      },
      "source": [
        "###**Multilayer Perceptron Model**\n",
        "\n",
        "After testing various structural combinations of layers and hyperparametrs, adopted state of art delivers model with best performance. In order to improve performance regularisation using Dropout layers are added and activation fuction Relu and Softmax are used in the structured model."
      ]
    },
    {
      "cell_type": "code",
      "metadata": {
        "id": "UBBICAvd1zZu",
        "outputId": "99d0115d-03d4-4bbd-fdae-e9858a4f0fd9",
        "colab": {
          "base_uri": "https://localhost:8080/",
          "height": 294
        }
      },
      "source": [
        "import keras\n",
        "from keras.models import Sequential\n",
        "from keras.layers import Dense, Dropout\n",
        "from sklearn.model_selection import cross_val_score\n",
        "from sklearn.model_selection import KFold\n",
        "from keras.wrappers.scikit_learn import KerasClassifier\n",
        "from keras.callbacks import EarlyStopping\n",
        "from keras.callbacks import ModelCheckpoint\n",
        "\n",
        "nn_model  = Sequential()\n",
        "nn_model.add(Dense(units= 100, activation= 'relu', input_dim= 235))\n",
        "nn_model.add(Dropout(0.5))\n",
        "nn_model.add(Dense(units= 10, activation= 'relu'))\n",
        "nn_model.add(Dense(units= 4,  activation= 'softmax'))\n",
        "\n",
        "nn_model.compile(optimizer= 'adam', loss= 'sparse_categorical_crossentropy', metrics= ['sparse_categorical_accuracy'])\n",
        "\n",
        "nn_model.summary()"
      ],
      "execution_count": null,
      "outputs": [
        {
          "output_type": "stream",
          "text": [
            "Model: \"sequential_1\"\n",
            "_________________________________________________________________\n",
            "Layer (type)                 Output Shape              Param #   \n",
            "=================================================================\n",
            "dense_3 (Dense)              (None, 100)               23600     \n",
            "_________________________________________________________________\n",
            "dropout_1 (Dropout)          (None, 100)               0         \n",
            "_________________________________________________________________\n",
            "dense_4 (Dense)              (None, 10)                1010      \n",
            "_________________________________________________________________\n",
            "dense_5 (Dense)              (None, 4)                 44        \n",
            "=================================================================\n",
            "Total params: 24,654\n",
            "Trainable params: 24,654\n",
            "Non-trainable params: 0\n",
            "_________________________________________________________________\n"
          ],
          "name": "stdout"
        }
      ]
    },
    {
      "cell_type": "markdown",
      "metadata": {
        "id": "Ez-tzzjqJBiB"
      },
      "source": [
        "Early stop function is assigned to training function to monitor the training rate and prevent overfitting. Model checkpoint saves model at every stage of improvement to deliver best perfoming model as resultant."
      ]
    },
    {
      "cell_type": "code",
      "metadata": {
        "id": "B3L-frn5C8EA",
        "outputId": "0bcbaff4-1bcf-4c85-a1ed-8294e9c7de33",
        "colab": {
          "base_uri": "https://localhost:8080/",
          "height": 1000
        }
      },
      "source": [
        "es = EarlyStopping(monitor='val_loss', mode='min', verbose=1, patience=5)\n",
        "mc = ModelCheckpoint('nn_model.h5', monitor='val_sparse_categorical_accuracy', mode='max', verbose=1, save_best_only=True)\n",
        "history = nn_model.fit(X_train, Y_train, batch_size=32, epochs=50, validation_split=0.25 ,verbose=2, callbacks=[es, mc])"
      ],
      "execution_count": null,
      "outputs": [
        {
          "output_type": "stream",
          "text": [
            "Epoch 1/50\n",
            "\n",
            "Epoch 00001: val_sparse_categorical_accuracy improved from -inf to 0.35556, saving model to nn_model.h5\n",
            "9/9 - 0s - loss: 1.4158 - sparse_categorical_accuracy: 0.3694 - val_loss: 1.3099 - val_sparse_categorical_accuracy: 0.3556\n",
            "Epoch 2/50\n",
            "\n",
            "Epoch 00002: val_sparse_categorical_accuracy improved from 0.35556 to 0.42222, saving model to nn_model.h5\n",
            "9/9 - 0s - loss: 1.2761 - sparse_categorical_accuracy: 0.4104 - val_loss: 1.2423 - val_sparse_categorical_accuracy: 0.4222\n",
            "Epoch 3/50\n",
            "\n",
            "Epoch 00003: val_sparse_categorical_accuracy improved from 0.42222 to 0.45556, saving model to nn_model.h5\n",
            "9/9 - 0s - loss: 1.2273 - sparse_categorical_accuracy: 0.4590 - val_loss: 1.1922 - val_sparse_categorical_accuracy: 0.4556\n",
            "Epoch 4/50\n",
            "\n",
            "Epoch 00004: val_sparse_categorical_accuracy improved from 0.45556 to 0.54444, saving model to nn_model.h5\n",
            "9/9 - 0s - loss: 1.1312 - sparse_categorical_accuracy: 0.5149 - val_loss: 1.1243 - val_sparse_categorical_accuracy: 0.5444\n",
            "Epoch 5/50\n",
            "\n",
            "Epoch 00005: val_sparse_categorical_accuracy improved from 0.54444 to 0.56667, saving model to nn_model.h5\n",
            "9/9 - 0s - loss: 1.0964 - sparse_categorical_accuracy: 0.5634 - val_loss: 1.0727 - val_sparse_categorical_accuracy: 0.5667\n",
            "Epoch 6/50\n",
            "\n",
            "Epoch 00006: val_sparse_categorical_accuracy did not improve from 0.56667\n",
            "9/9 - 0s - loss: 1.0059 - sparse_categorical_accuracy: 0.5933 - val_loss: 1.0321 - val_sparse_categorical_accuracy: 0.5556\n",
            "Epoch 7/50\n",
            "\n",
            "Epoch 00007: val_sparse_categorical_accuracy did not improve from 0.56667\n",
            "9/9 - 0s - loss: 0.9215 - sparse_categorical_accuracy: 0.6343 - val_loss: 0.9891 - val_sparse_categorical_accuracy: 0.5556\n",
            "Epoch 8/50\n",
            "\n",
            "Epoch 00008: val_sparse_categorical_accuracy did not improve from 0.56667\n",
            "9/9 - 0s - loss: 0.8799 - sparse_categorical_accuracy: 0.6642 - val_loss: 0.9541 - val_sparse_categorical_accuracy: 0.5667\n",
            "Epoch 9/50\n",
            "\n",
            "Epoch 00009: val_sparse_categorical_accuracy improved from 0.56667 to 0.63333, saving model to nn_model.h5\n",
            "9/9 - 0s - loss: 0.8162 - sparse_categorical_accuracy: 0.7127 - val_loss: 0.8954 - val_sparse_categorical_accuracy: 0.6333\n",
            "Epoch 10/50\n",
            "\n",
            "Epoch 00010: val_sparse_categorical_accuracy did not improve from 0.63333\n",
            "9/9 - 0s - loss: 0.7669 - sparse_categorical_accuracy: 0.7127 - val_loss: 0.8731 - val_sparse_categorical_accuracy: 0.5889\n",
            "Epoch 11/50\n",
            "\n",
            "Epoch 00011: val_sparse_categorical_accuracy improved from 0.63333 to 0.65556, saving model to nn_model.h5\n",
            "9/9 - 0s - loss: 0.7060 - sparse_categorical_accuracy: 0.7351 - val_loss: 0.8346 - val_sparse_categorical_accuracy: 0.6556\n",
            "Epoch 12/50\n",
            "\n",
            "Epoch 00012: val_sparse_categorical_accuracy did not improve from 0.65556\n",
            "9/9 - 0s - loss: 0.6436 - sparse_categorical_accuracy: 0.7985 - val_loss: 0.7759 - val_sparse_categorical_accuracy: 0.6556\n",
            "Epoch 13/50\n",
            "\n",
            "Epoch 00013: val_sparse_categorical_accuracy improved from 0.65556 to 0.66667, saving model to nn_model.h5\n",
            "9/9 - 0s - loss: 0.7050 - sparse_categorical_accuracy: 0.7164 - val_loss: 0.7561 - val_sparse_categorical_accuracy: 0.6667\n",
            "Epoch 14/50\n",
            "\n",
            "Epoch 00014: val_sparse_categorical_accuracy did not improve from 0.66667\n",
            "9/9 - 0s - loss: 0.5943 - sparse_categorical_accuracy: 0.7985 - val_loss: 0.7710 - val_sparse_categorical_accuracy: 0.6444\n",
            "Epoch 15/50\n",
            "\n",
            "Epoch 00015: val_sparse_categorical_accuracy improved from 0.66667 to 0.67778, saving model to nn_model.h5\n",
            "9/9 - 0s - loss: 0.5742 - sparse_categorical_accuracy: 0.7724 - val_loss: 0.7264 - val_sparse_categorical_accuracy: 0.6778\n",
            "Epoch 16/50\n",
            "\n",
            "Epoch 00016: val_sparse_categorical_accuracy did not improve from 0.67778\n",
            "9/9 - 0s - loss: 0.5843 - sparse_categorical_accuracy: 0.7724 - val_loss: 0.7452 - val_sparse_categorical_accuracy: 0.6667\n",
            "Epoch 17/50\n",
            "\n",
            "Epoch 00017: val_sparse_categorical_accuracy did not improve from 0.67778\n",
            "9/9 - 0s - loss: 0.5366 - sparse_categorical_accuracy: 0.8284 - val_loss: 0.7482 - val_sparse_categorical_accuracy: 0.6667\n",
            "Epoch 18/50\n",
            "\n",
            "Epoch 00018: val_sparse_categorical_accuracy improved from 0.67778 to 0.71111, saving model to nn_model.h5\n",
            "9/9 - 0s - loss: 0.5326 - sparse_categorical_accuracy: 0.7910 - val_loss: 0.6981 - val_sparse_categorical_accuracy: 0.7111\n",
            "Epoch 19/50\n",
            "\n",
            "Epoch 00019: val_sparse_categorical_accuracy did not improve from 0.71111\n",
            "9/9 - 0s - loss: 0.5132 - sparse_categorical_accuracy: 0.8209 - val_loss: 0.6768 - val_sparse_categorical_accuracy: 0.7111\n",
            "Epoch 20/50\n",
            "\n",
            "Epoch 00020: val_sparse_categorical_accuracy did not improve from 0.71111\n",
            "9/9 - 0s - loss: 0.4574 - sparse_categorical_accuracy: 0.8396 - val_loss: 0.6804 - val_sparse_categorical_accuracy: 0.6889\n",
            "Epoch 21/50\n",
            "\n",
            "Epoch 00021: val_sparse_categorical_accuracy did not improve from 0.71111\n",
            "9/9 - 0s - loss: 0.4322 - sparse_categorical_accuracy: 0.8358 - val_loss: 0.6557 - val_sparse_categorical_accuracy: 0.7111\n",
            "Epoch 22/50\n",
            "\n",
            "Epoch 00022: val_sparse_categorical_accuracy did not improve from 0.71111\n",
            "9/9 - 0s - loss: 0.3601 - sparse_categorical_accuracy: 0.8993 - val_loss: 0.6549 - val_sparse_categorical_accuracy: 0.7111\n",
            "Epoch 23/50\n",
            "\n",
            "Epoch 00023: val_sparse_categorical_accuracy did not improve from 0.71111\n",
            "9/9 - 0s - loss: 0.4095 - sparse_categorical_accuracy: 0.8769 - val_loss: 0.6535 - val_sparse_categorical_accuracy: 0.7000\n",
            "Epoch 24/50\n",
            "\n",
            "Epoch 00024: val_sparse_categorical_accuracy improved from 0.71111 to 0.74444, saving model to nn_model.h5\n",
            "9/9 - 0s - loss: 0.3533 - sparse_categorical_accuracy: 0.9067 - val_loss: 0.6265 - val_sparse_categorical_accuracy: 0.7444\n",
            "Epoch 25/50\n",
            "\n",
            "Epoch 00025: val_sparse_categorical_accuracy did not improve from 0.74444\n",
            "9/9 - 0s - loss: 0.3962 - sparse_categorical_accuracy: 0.8582 - val_loss: 0.6290 - val_sparse_categorical_accuracy: 0.7222\n",
            "Epoch 26/50\n",
            "\n",
            "Epoch 00026: val_sparse_categorical_accuracy did not improve from 0.74444\n",
            "9/9 - 0s - loss: 0.3501 - sparse_categorical_accuracy: 0.8843 - val_loss: 0.6380 - val_sparse_categorical_accuracy: 0.7111\n",
            "Epoch 27/50\n",
            "\n",
            "Epoch 00027: val_sparse_categorical_accuracy did not improve from 0.74444\n",
            "9/9 - 0s - loss: 0.3474 - sparse_categorical_accuracy: 0.9030 - val_loss: 0.6652 - val_sparse_categorical_accuracy: 0.7111\n",
            "Epoch 28/50\n",
            "\n",
            "Epoch 00028: val_sparse_categorical_accuracy did not improve from 0.74444\n",
            "9/9 - 0s - loss: 0.3491 - sparse_categorical_accuracy: 0.8843 - val_loss: 0.6390 - val_sparse_categorical_accuracy: 0.7444\n",
            "Epoch 29/50\n",
            "\n",
            "Epoch 00029: val_sparse_categorical_accuracy did not improve from 0.74444\n",
            "9/9 - 0s - loss: 0.3157 - sparse_categorical_accuracy: 0.8993 - val_loss: 0.6164 - val_sparse_categorical_accuracy: 0.7333\n",
            "Epoch 30/50\n",
            "\n",
            "Epoch 00030: val_sparse_categorical_accuracy did not improve from 0.74444\n",
            "9/9 - 0s - loss: 0.2715 - sparse_categorical_accuracy: 0.8993 - val_loss: 0.6232 - val_sparse_categorical_accuracy: 0.7333\n",
            "Epoch 31/50\n",
            "\n",
            "Epoch 00031: val_sparse_categorical_accuracy did not improve from 0.74444\n",
            "9/9 - 0s - loss: 0.3042 - sparse_categorical_accuracy: 0.9030 - val_loss: 0.6207 - val_sparse_categorical_accuracy: 0.7333\n",
            "Epoch 32/50\n",
            "\n",
            "Epoch 00032: val_sparse_categorical_accuracy did not improve from 0.74444\n",
            "9/9 - 0s - loss: 0.2883 - sparse_categorical_accuracy: 0.9030 - val_loss: 0.6225 - val_sparse_categorical_accuracy: 0.7333\n",
            "Epoch 33/50\n",
            "\n",
            "Epoch 00033: val_sparse_categorical_accuracy did not improve from 0.74444\n",
            "9/9 - 0s - loss: 0.2212 - sparse_categorical_accuracy: 0.9366 - val_loss: 0.6265 - val_sparse_categorical_accuracy: 0.7333\n",
            "Epoch 34/50\n",
            "\n",
            "Epoch 00034: val_sparse_categorical_accuracy did not improve from 0.74444\n",
            "9/9 - 0s - loss: 0.2604 - sparse_categorical_accuracy: 0.8993 - val_loss: 0.6374 - val_sparse_categorical_accuracy: 0.7444\n",
            "Epoch 00034: early stopping\n"
          ],
          "name": "stdout"
        }
      ]
    },
    {
      "cell_type": "code",
      "metadata": {
        "id": "RZj4tQSlLclB",
        "outputId": "df5890d6-a297-4971-8728-bf4c7dc2e655",
        "colab": {
          "base_uri": "https://localhost:8080/",
          "height": 409
        }
      },
      "source": [
        "plt.figure(figsize=(10,6))\n",
        "plt.plot(history.history['sparse_categorical_accuracy'],linewidth=3.0)\n",
        "plt.plot(history.history['val_sparse_categorical_accuracy'],linewidth=3.0)\n",
        "plt.title('model accuracy')\n",
        "plt.ylabel('accuracy')\n",
        "plt.xlabel('epoch')\n",
        "plt.legend(['train','validation'], loc='upper left')\n",
        "plt.show()"
      ],
      "execution_count": null,
      "outputs": [
        {
          "output_type": "display_data",
          "data": {
            "image/png": "[encoded data removed]",
            "text/plain": [
              "<Figure size 720x432 with 1 Axes>"
            ]
          },
          "metadata": {
            "tags": []
          }
        }
      ]
    },
    {
      "cell_type": "markdown",
      "metadata": {
        "id": "Ef6MuMOfJ7r2"
      },
      "source": [
        "Train and validation accuracy are pretty close and following each other. Thus, we’re not overfitting the data. Also notice that the accuracy keeps increasing as the epoch increases, giving us the intuition that increasing the epoch size is likely to give us a higher accuracy."
      ]
    },
    {
      "cell_type": "code",
      "metadata": {
        "id": "t59EnM-oLlHA",
        "outputId": "66e45782-0dfc-4b8b-ccf2-141a9db705f6",
        "colab": {
          "base_uri": "https://localhost:8080/",
          "height": 409
        }
      },
      "source": [
        "plt.figure(figsize=(10,6))\n",
        "plt.plot(history.history['loss'], color='black',linewidth=3.0)\n",
        "plt.plot(history.history['val_loss'],color='red',linewidth=2.0)\n",
        "plt.title('model loss')\n",
        "plt.ylabel('loss')\n",
        "plt.xlabel('epoch')\n",
        "plt.legend(['train'], loc='upper left')\n",
        "plt.show()"
      ],
      "execution_count": null,
      "outputs": [
        {
          "output_type": "display_data",
          "data": {
            "image/png": "[encoded data removed]",
            "text/plain": [
              "<Figure size 720x432 with 1 Axes>"
            ]
          },
          "metadata": {
            "tags": []
          }
        }
      ]
    },
    {
      "cell_type": "markdown",
      "metadata": {
        "id": "Q_6CdVTQKCkf"
      },
      "source": [
        "From losses curve, it can be visualised that data is not overfitting as both train and validation loss are trends down closely and the losses go lower with increasing number of epochs."
      ]
    },
    {
      "cell_type": "code",
      "metadata": {
        "id": "iyaB_ncnfxcG",
        "outputId": "baa83cce-d204-4dc2-b67e-0b860d44b025",
        "colab": {
          "base_uri": "https://localhost:8080/",
          "height": 34
        }
      },
      "source": [
        "nn_pred = nn_model.predict(X_test)\n",
        "nn_pred = (nn_pred>0.5)\n",
        "nn_pred = nn_pred.astype(int)\n",
        "nn_pred[0]\n"
      ],
      "execution_count": null,
      "outputs": [
        {
          "output_type": "execute_result",
          "data": {
            "text/plain": [
              "array([1, 0, 0, 0])"
            ]
          },
          "metadata": {
            "tags": []
          },
          "execution_count": 42
        }
      ]
    },
    {
      "cell_type": "code",
      "metadata": {
        "id": "19QZOcc4lAC5",
        "outputId": "04cbe686-7428-4626-a2a9-18551b2abaee",
        "colab": {
          "base_uri": "https://localhost:8080/",
          "height": 206
        }
      },
      "source": [
        "nn_result = pd.DataFrame(index=Y_test.index, columns=[['HC', 'PD_l', 'PD_m', 'PD_h', 'actual', 'pred']]) \n",
        "nn_result[['HC', 'PD_l', 'PD_m', 'PD_h']] = nn_pred\n",
        "nn_result[['actual']] = Y_test\n",
        "nn_result = nn_result.reset_index()\n",
        "\n",
        "for i in range(len(nn_result)):\n",
        "  if nn_result.loc[i,'HC'][0].astype(int) == 1:\n",
        "    nn_result.loc[i,'pred'] = 'HC'\n",
        "  elif nn_result.loc[i,'PD_l'][0].astype(int) == 1:\n",
        "    nn_result.loc[i,'pred'] = 'PD_l'\n",
        "  elif nn_result.loc[i,'PD_m'][0].astype(int) == 1:\n",
        "    nn_result.loc[i,'pred'] = 'PD_m'\n",
        "  else:\n",
        "    nn_result.loc[i,'pred'] = 'PD_h'\n",
        "\n",
        "\n",
        "for i in range(len(nn_result)):\n",
        "  if nn_result.loc[i,'actual'][0] == 0:\n",
        "    nn_result.loc[i,'actual'] = 'HC'\n",
        "  elif nn_result.loc[i,'actual'][0] == 1:\n",
        "    nn_result.loc[i,'actual'] = 'PD_l'\n",
        "  elif nn_result.loc[i,'actual'][0] == 2:\n",
        "    nn_result.loc[i,'actual'] = 'PD_m'\n",
        "  else:\n",
        "    nn_result.loc[i,'actual'] = 'PD_h'\n",
        "\n",
        "nn_result.head(5)"
      ],
      "execution_count": null,
      "outputs": [
        {
          "output_type": "execute_result",
          "data": {
            "text/html": [
              "<div>\n",
              "<style scoped>\n",
              "    .dataframe tbody tr th:only-of-type {\n",
              "        vertical-align: middle;\n",
              "    }\n",
              "\n",
              "    .dataframe tbody tr th {\n",
              "        vertical-align: top;\n",
              "    }\n",
              "\n",
              "    .dataframe thead tr th {\n",
              "        text-align: left;\n",
              "    }\n",
              "</style>\n",
              "<table border=\"1\" class=\"dataframe\">\n",
              "  <thead>\n",
              "    <tr>\n",
              "      <th></th>\n",
              "      <th>PATNO</th>\n",
              "      <th>HC</th>\n",
              "      <th>PD_l</th>\n",
              "      <th>PD_m</th>\n",
              "      <th>PD_h</th>\n",
              "      <th>actual</th>\n",
              "      <th>pred</th>\n",
              "    </tr>\n",
              "  </thead>\n",
              "  <tbody>\n",
              "    <tr>\n",
              "      <th>0</th>\n",
              "      <td>3620</td>\n",
              "      <td>1</td>\n",
              "      <td>0</td>\n",
              "      <td>0</td>\n",
              "      <td>0</td>\n",
              "      <td>HC</td>\n",
              "      <td>HC</td>\n",
              "    </tr>\n",
              "    <tr>\n",
              "      <th>1</th>\n",
              "      <td>3651</td>\n",
              "      <td>1</td>\n",
              "      <td>0</td>\n",
              "      <td>0</td>\n",
              "      <td>0</td>\n",
              "      <td>HC</td>\n",
              "      <td>HC</td>\n",
              "    </tr>\n",
              "    <tr>\n",
              "      <th>2</th>\n",
              "      <td>3264</td>\n",
              "      <td>1</td>\n",
              "      <td>0</td>\n",
              "      <td>0</td>\n",
              "      <td>0</td>\n",
              "      <td>HC</td>\n",
              "      <td>HC</td>\n",
              "    </tr>\n",
              "    <tr>\n",
              "      <th>3</th>\n",
              "      <td>3812</td>\n",
              "      <td>1</td>\n",
              "      <td>0</td>\n",
              "      <td>0</td>\n",
              "      <td>0</td>\n",
              "      <td>HC</td>\n",
              "      <td>HC</td>\n",
              "    </tr>\n",
              "    <tr>\n",
              "      <th>4</th>\n",
              "      <td>3169</td>\n",
              "      <td>1</td>\n",
              "      <td>0</td>\n",
              "      <td>0</td>\n",
              "      <td>0</td>\n",
              "      <td>HC</td>\n",
              "      <td>HC</td>\n",
              "    </tr>\n",
              "  </tbody>\n",
              "</table>\n",
              "</div>"
            ],
            "text/plain": [
              "  PATNO HC PD_l PD_m PD_h actual pred\n",
              "0  3620  1    0    0    0     HC   HC\n",
              "1  3651  1    0    0    0     HC   HC\n",
              "2  3264  1    0    0    0     HC   HC\n",
              "3  3812  1    0    0    0     HC   HC\n",
              "4  3169  1    0    0    0     HC   HC"
            ]
          },
          "metadata": {
            "tags": []
          },
          "execution_count": 43
        }
      ]
    },
    {
      "cell_type": "markdown",
      "metadata": {
        "id": "KRe2qrBPO43R"
      },
      "source": [
        "Above table represents comparision of actual value and predicted value of Test set data. "
      ]
    },
    {
      "cell_type": "code",
      "metadata": {
        "id": "ffjJ5fpQFfU8",
        "outputId": "2ca2b307-7b4d-41f0-8350-5caf27244a52",
        "colab": {
          "base_uri": "https://localhost:8080/",
          "height": 301
        }
      },
      "source": [
        "scores.append(round(metrics.accuracy_score(nn_result[['actual']],nn_result[['pred']]),2))\n",
        "classifier_names.append('Neural Net')\n",
        "\n",
        "plt.figure(1, figsize=(6, 4))\n",
        "imp, names = zip(*sorted(zip(scores, classifier_names)))\n",
        "plt.barh(range(len(names)), imp, align = 'center')\n",
        "plt.yticks(range(len(names)), names)\n",
        "plt.xlabel('Classifier performance')\n",
        "plt.ylabel('Classifiers')\n",
        "plt.title('Comparision of different classifiers')\n",
        "plt.show()"
      ],
      "execution_count": null,
      "outputs": [
        {
          "output_type": "display_data",
          "data": {
            "image/png": "[encoded data removed]",
            "text/plain": [
              "<Figure size 432x288 with 1 Axes>"
            ]
          },
          "metadata": {
            "tags": []
          }
        }
      ]
    },
    {
      "cell_type": "markdown",
      "metadata": {
        "id": "i0aNIU3Wd3xh"
      },
      "source": [
        "Above visualization, illustrates the comparision of models based on its prediction accuracy. It can be infered that Support Vector Machine (SVM) is the best performing model when data is clustered using NMF component vector, with 87% classification accuracy. "
      ]
    },
    {
      "cell_type": "markdown",
      "metadata": {
        "id": "FYtxIT65sCCo"
      },
      "source": [
        "##**Evaluation of Best Model**\n",
        "Various evaluation metrics are applied to evalute best performing model, Logistic Regression model\n",
        "1. **Matthews Correlation Coefficient:** \n",
        "\\\n",
        "MCC is calculated from confusion matrix and it represents the correlation between observed and predicted classification. Here, if the value of MCC is 1 then it is perfect prediction if it is -1 then it is total disagreement and if it is 0, it means it is a random guess.\n",
        "\n",
        "2. **Precision:**\n",
        "\\\n",
        "Precision is\n",
        "the ratio of true positive to number of positives in the result. It\n",
        "ranges from 0 – 1.\n",
        "\n",
        "3. **Recall:**\n",
        "\\\n",
        "Recall is the proportion of true positive by all possible\n",
        "relevant data. ie. proportion of actual positives\n",
        "that are correctly identified.\n",
        "\n",
        "4. **F1-Score:**\n",
        "\\\n",
        "It is a harmonic mean of precision and recall and is also\n",
        "known as f1 measure. The value ranges from 0 to 1 and a high\n",
        "value of f1 score represents high classification performance.\n",
        "\n",
        "5. **Confusion Metrix:**\n",
        "\\\n",
        "By using this\n",
        "matrix, we can identify which category is correctly classified\n",
        "and which does not."
      ]
    },
    {
      "cell_type": "code",
      "metadata": {
        "id": "ELfSvBNCJX6E",
        "outputId": "474eb9e8-ef23-4add-e60b-f1c6b5f544cc",
        "colab": {
          "base_uri": "https://localhost:8080/",
          "height": 86
        }
      },
      "source": [
        "model = SVC(kernel=\"linear\", C=0.025, gamma= 0.0001, class_weight='balanced')\n",
        "model.fit(X_train, Y_train)"
      ],
      "execution_count": null,
      "outputs": [
        {
          "output_type": "execute_result",
          "data": {
            "text/plain": [
              "SVC(C=0.025, break_ties=False, cache_size=200, class_weight='balanced',\n",
              "    coef0=0.0, decision_function_shape='ovr', degree=3, gamma=0.0001,\n",
              "    kernel='linear', max_iter=-1, probability=False, random_state=None,\n",
              "    shrinking=True, tol=0.001, verbose=False)"
            ]
          },
          "metadata": {
            "tags": []
          },
          "execution_count": 45
        }
      ]
    },
    {
      "cell_type": "code",
      "metadata": {
        "id": "N8dUxxQcSUpm",
        "outputId": "a41d4bb9-84cd-4cbc-d63e-f92debce15d2",
        "colab": {
          "base_uri": "https://localhost:8080/",
          "height": 138
        }
      },
      "source": [
        "#BEST PERFORMING MODEL FOR PCA BASED DIMENSIONALITY REDUCTION\n",
        "model = XGBClassifier()\n",
        "model.fit(X_train, Y_train)"
      ],
      "execution_count": null,
      "outputs": [
        {
          "output_type": "execute_result",
          "data": {
            "text/plain": [
              "XGBClassifier(base_score=0.5, booster='gbtree', colsample_bylevel=1,\n",
              "              colsample_bynode=1, colsample_bytree=1, gamma=0,\n",
              "              learning_rate=0.1, max_delta_step=0, max_depth=3,\n",
              "              min_child_weight=1, missing=None, n_estimators=100, n_jobs=1,\n",
              "              nthread=None, objective='multi:softprob', random_state=0,\n",
              "              reg_alpha=0, reg_lambda=1, scale_pos_weight=1, seed=None,\n",
              "              silent=None, subsample=1, verbosity=1)"
            ]
          },
          "metadata": {
            "tags": []
          },
          "execution_count": 48
        }
      ]
    },
    {
      "cell_type": "code",
      "metadata": {
        "id": "o_9NrjXuaBmA",
        "outputId": "a9671423-12e4-4440-c1c1-8ca162ad76f2",
        "colab": {
          "base_uri": "https://localhost:8080/",
          "height": 468
        }
      },
      "source": [
        "Y_pred = model.predict(X_test)\n",
        "\n",
        "print(\"Evalution Result for SVM model\\n\") \n",
        "print(\"Matthews Correlation Coefficient:\", round(metrics.matthews_corrcoef(Y_test,Y_pred),3))\n",
        "print('Accuracy:',round(metrics.accuracy_score(Y_test,Y_pred),3))  \n",
        "print('F1 score:',round(metrics.f1_score(Y_test,Y_pred,average='weighted'),3))   \n",
        "print('Recall:',round(metrics.recall_score(Y_test,Y_pred,average='weighted'),3))   \n",
        "print('Precision:',round(metrics.precision_score(Y_test,Y_pred,average='weighted'),3))  \n",
        "print('\\n clasification report:\\n',metrics.classification_report(Y_test,Y_pred))  \n",
        "confusion_mtx = metrics.confusion_matrix(Y_test,Y_pred)\n",
        "print('\\n confussion matrix:\\n',confusion_mtx)"
      ],
      "execution_count": null,
      "outputs": [
        {
          "output_type": "stream",
          "text": [
            "Evalution Result for SVM model\n",
            "\n",
            "Matthews Correlation Coefficient: 0.749\n",
            "Accuracy: 0.822\n",
            "F1 score: 0.816\n",
            "Recall: 0.822\n",
            "Precision: 0.823\n",
            "\n",
            " clasification report:\n",
            "               precision    recall  f1-score   support\n",
            "\n",
            "           0       1.00      1.00      1.00        32\n",
            "           1       0.76      0.90      0.82        31\n",
            "           2       0.50      0.45      0.48        11\n",
            "           3       0.82      0.56      0.67        16\n",
            "\n",
            "    accuracy                           0.82        90\n",
            "   macro avg       0.77      0.73      0.74        90\n",
            "weighted avg       0.82      0.82      0.82        90\n",
            "\n",
            "\n",
            " confussion matrix:\n",
            " [[32  0  0  0]\n",
            " [ 0 28  1  2]\n",
            " [ 0  6  5  0]\n",
            " [ 0  3  4  9]]\n"
          ],
          "name": "stdout"
        }
      ]
    },
    {
      "cell_type": "code",
      "metadata": {
        "id": "peKCB8rbFFvK",
        "outputId": "f98fa1c0-5731-47e7-e5e7-8b9488180055",
        "colab": {
          "base_uri": "https://localhost:8080/",
          "height": 309
        }
      },
      "source": [
        "def plot_confusion_matrix(cm, classes,\n",
        "   normalize=True,\n",
        "   title= 'Confusion matrix',\n",
        "   cmap=plt.cm.Greens):\n",
        " \n",
        "   if normalize:\n",
        "     cm = cm.astype('float') / cm.sum(axis=1)[:, np.newaxis]\n",
        " \n",
        "   plt.imshow(cm, interpolation='nearest', cmap=cmap)\n",
        "   plt.title(title)\n",
        "   plt.colorbar()\n",
        "   tick_marks = np.arange(len(classes))\n",
        "   plt.xticks(tick_marks, classes, rotation=0)\n",
        "   plt.yticks(tick_marks, classes)\n",
        " \n",
        "   fmt = '.2f' if normalize else 'd'\n",
        "   thresh = cm.max() / 2.\n",
        "   for i, j in itertools.product(range(cm.shape[0]), range(cm.shape[1])):\n",
        "      plt.text(j, i, format(cm[i, j], fmt), horizontalalignment='center', color='white' if cm[i, j] > thresh else 'black')\n",
        " \n",
        "   plt.tight_layout()\n",
        "   plt.ylabel('True label')\n",
        "   plt.xlabel('Predicted label')\n",
        "\n",
        "plt.figure(figsize=(6,4))\n",
        "plot_confusion_matrix(confusion_mtx, ['HC', 'PD_low', 'PD_medium', 'PD_high'])"
      ],
      "execution_count": null,
      "outputs": [
        {
          "output_type": "display_data",
          "data": {
            "image/png": "[encoded data removed]",
            "text/plain": [
              "<Figure size 432x288 with 2 Axes>"
            ]
          },
          "metadata": {
            "tags": []
          }
        }
      ]
    },
    {
      "cell_type": "markdown",
      "metadata": {
        "id": "TFJKB-0mPK_t"
      },
      "source": [
        "##Result Discussion\n",
        "\n",
        "In this research, performance of 7 different models are compared. Based on thorough evaluation of model with optimal selection of myper parameters. Best performing model is SVM based model with classification prediction accuracy of 87%. "
      ]
    }
  ]
}